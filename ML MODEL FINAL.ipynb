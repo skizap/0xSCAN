{
  "nbformat": 4,
  "nbformat_minor": 0,
  "metadata": {
    "colab": {
      "name": "Project 18. Movie Recommendation System using Machine Learning with Python.ipynb",
      "provenance": [],
      "collapsed_sections": [],
      "include_colab_link": true
    },
    "kernelspec": {
      "name": "python3",
      "display_name": "Python 3"
    },
    "language_info": {
      "name": "python"
    }
  },
  "cells": [
    {
      "cell_type": "markdown",
      "metadata": {
        "id": "view-in-github",
        "colab_type": "text"
      },
      "source": [
        "<a href=\"https://colab.research.google.com/github/dhruvalgupta2003/0xSCAN/blob/master/ML%20MODEL%20FINAL.ipynb\" target=\"_parent\"><img src=\"https://colab.research.google.com/assets/colab-badge.svg\" alt=\"Open In Colab\"/></a>"
      ]
    },
    {
      "cell_type": "markdown",
      "metadata": {
        "id": "R1oRN_iiHN_7"
      },
      "source": [
        "Importing the dependencies"
      ]
    },
    {
      "cell_type": "code",
      "metadata": {
        "id": "GAGi6hrzFLOb"
      },
      "source": [
        "import numpy as np\n",
        "import pandas as pd\n",
        "import difflib\n",
        "from sklearn.feature_extraction.text import TfidfVectorizer\n",
        "from sklearn.metrics.pairwise import cosine_similarity"
      ],
      "execution_count": 1,
      "outputs": []
    },
    {
      "cell_type": "markdown",
      "metadata": {
        "id": "mfIW1BYVIGfP"
      },
      "source": [
        "Data Collection and Pre-Processing"
      ]
    },
    {
      "cell_type": "code",
      "metadata": {
        "id": "MOXn7CGdIGBU"
      },
      "source": [
        "# loading the data from the csv file to apandas dataframe\n",
        "movies_data = pd.read_csv('/content/latest_Scholarship_data.csv')"
      ],
      "execution_count": 2,
      "outputs": []
    },
    {
      "cell_type": "code",
      "metadata": {
        "colab": {
          "base_uri": "https://localhost:8080/",
          "height": 617
        },
        "id": "cha03lDAIa6l",
        "outputId": "fabb1559-c53b-449b-8d4c-dfc7caebb55b"
      },
      "source": [
        "# printing the first 5 rows of the dataframe\n",
        "movies_data.head()"
      ],
      "execution_count": 3,
      "outputs": [
        {
          "output_type": "execute_result",
          "data": {
            "text/plain": [
              "                        _id  \\\n",
              "0  62fa0551b308357159b62aee   \n",
              "1  62fa0a21b308357159b66e06   \n",
              "2  62fa0af2b308357159b671d6   \n",
              "3  62fa0bebb308357159b675fc   \n",
              "4  62fa1086b308357159b6a381   \n",
              "\n",
              "                                               title  \\\n",
              "0                        Virchow Scholarship Program   \n",
              "1  Saksham Scholarship Program for Class 9-12 Stu...   \n",
              "2  Saksham Scholarship Program for Graduate Stude...   \n",
              "3  Saksham Scholarship Program for Postgraduate S...   \n",
              "4              Santoor Scholarship Programme 2021-22   \n",
              "\n",
              "                   deadline       award  \\\n",
              "0  2022-08-31T00:00:00.000Z  upto 20000   \n",
              "1  2022-08-31T00:00:00.000Z        8000   \n",
              "2  2022-08-31T00:00:00.000Z  upto 15000   \n",
              "3  2022-08-31T00:00:00.000Z  upto 20000   \n",
              "4  2023-01-20T00:00:00.000Z  upto 24000   \n",
              "\n",
              "                                         description  \\\n",
              "0  Virchow Scholarship Program is an initiative o...   \n",
              "1  ‘Saksham Scholarship Program for Drivers’ Chil...   \n",
              "2  ‘Saksham Scholarship Program for Drivers’ Chil...   \n",
              "3  ‘Saksham Scholarship Program for Drivers’ Chil...   \n",
              "4  A future full of opportunities is now within y...   \n",
              "\n",
              "                                             website  \\\n",
              "0  https://www.buddy4study.com/application/VISC2/...   \n",
              "1  https://www.buddy4study.com/application/SKSP1/...   \n",
              "2  https://www.buddy4study.com/application/SKSP2/...   \n",
              "3  https://www.buddy4study.com/application/SKSP4/...   \n",
              "4                                                NaN   \n",
              "\n",
              "                                         elegibility origin  \\\n",
              "0                       Open for girl students only.  India   \n",
              "1  Applicants must have secured 60% and above mar...  India   \n",
              "2  Applicants must be studying in any year of the...  India   \n",
              "3  Applicants must be studying in any year of the...  India   \n",
              "4  Available only for young women from underprivi...  India   \n",
              "\n",
              "                                        elegibility2  \\\n",
              "0  Students must be residents of Telangana or And...   \n",
              "1  Annual family income of the applicants from al...   \n",
              "2  Applicants must have secured 60% and above mar...   \n",
              "3  Applicants must have secured 60% and above mar...   \n",
              "4  Have passed Class 10 from a local government s...   \n",
              "\n",
              "                                        elegibility3           state  \\\n",
              "0  Applicants must have scored at least 70% marks...  Andhra Pradesh   \n",
              "1  Children or family members of Mahindra Finance...  Andhra Pradesh   \n",
              "2  Annual family income of the applicants from al...  Andhra Pradesh   \n",
              "3  Annual family income of the applicants from al...  Andhra Pradesh   \n",
              "4  Have passed Class 12 from a government school/...  Andhra Pradesh   \n",
              "\n",
              "        profession  gender  income                 createdAt  \\\n",
              "0  School Stundent  Female  600000  2022-08-15T08:35:29.463Z   \n",
              "1   School Student     NaN  400000  2022-08-15T08:56:01.407Z   \n",
              "2       Graduation     NaN  400000  2022-08-15T08:59:30.849Z   \n",
              "3  Post Graduation     NaN  400000  2022-08-15T09:03:39.220Z   \n",
              "4   School Student  Female     NaN  2022-08-15T09:23:18.757Z   \n",
              "\n",
              "                  updatedAt  __v                       guu category userId  \n",
              "0  2022-08-20T17:34:06.527Z    0  62fa2577557bf312e1c5af51      NaN    NaN  \n",
              "1  2022-08-15T08:56:01.407Z    0                       NaN      NaN    NaN  \n",
              "2  2022-08-15T09:00:01.600Z    0                       NaN      NaN    NaN  \n",
              "3  2022-08-15T09:03:39.220Z    0                       NaN      NaN    NaN  \n",
              "4  2022-08-15T09:23:18.757Z    0                       NaN      NaN    NaN  "
            ],
            "text/html": [
              "\n",
              "  <div id=\"df-63db4036-a5db-4b74-beb0-dd06c589ef82\">\n",
              "    <div class=\"colab-df-container\">\n",
              "      <div>\n",
              "<style scoped>\n",
              "    .dataframe tbody tr th:only-of-type {\n",
              "        vertical-align: middle;\n",
              "    }\n",
              "\n",
              "    .dataframe tbody tr th {\n",
              "        vertical-align: top;\n",
              "    }\n",
              "\n",
              "    .dataframe thead th {\n",
              "        text-align: right;\n",
              "    }\n",
              "</style>\n",
              "<table border=\"1\" class=\"dataframe\">\n",
              "  <thead>\n",
              "    <tr style=\"text-align: right;\">\n",
              "      <th></th>\n",
              "      <th>_id</th>\n",
              "      <th>title</th>\n",
              "      <th>deadline</th>\n",
              "      <th>award</th>\n",
              "      <th>description</th>\n",
              "      <th>website</th>\n",
              "      <th>elegibility</th>\n",
              "      <th>origin</th>\n",
              "      <th>elegibility2</th>\n",
              "      <th>elegibility3</th>\n",
              "      <th>state</th>\n",
              "      <th>profession</th>\n",
              "      <th>gender</th>\n",
              "      <th>income</th>\n",
              "      <th>createdAt</th>\n",
              "      <th>updatedAt</th>\n",
              "      <th>__v</th>\n",
              "      <th>guu</th>\n",
              "      <th>category</th>\n",
              "      <th>userId</th>\n",
              "    </tr>\n",
              "  </thead>\n",
              "  <tbody>\n",
              "    <tr>\n",
              "      <th>0</th>\n",
              "      <td>62fa0551b308357159b62aee</td>\n",
              "      <td>Virchow Scholarship Program</td>\n",
              "      <td>2022-08-31T00:00:00.000Z</td>\n",
              "      <td>upto 20000</td>\n",
              "      <td>Virchow Scholarship Program is an initiative o...</td>\n",
              "      <td>https://www.buddy4study.com/application/VISC2/...</td>\n",
              "      <td>Open for girl students only.</td>\n",
              "      <td>India</td>\n",
              "      <td>Students must be residents of Telangana or And...</td>\n",
              "      <td>Applicants must have scored at least 70% marks...</td>\n",
              "      <td>Andhra Pradesh</td>\n",
              "      <td>School Stundent</td>\n",
              "      <td>Female</td>\n",
              "      <td>600000</td>\n",
              "      <td>2022-08-15T08:35:29.463Z</td>\n",
              "      <td>2022-08-20T17:34:06.527Z</td>\n",
              "      <td>0</td>\n",
              "      <td>62fa2577557bf312e1c5af51</td>\n",
              "      <td>NaN</td>\n",
              "      <td>NaN</td>\n",
              "    </tr>\n",
              "    <tr>\n",
              "      <th>1</th>\n",
              "      <td>62fa0a21b308357159b66e06</td>\n",
              "      <td>Saksham Scholarship Program for Class 9-12 Stu...</td>\n",
              "      <td>2022-08-31T00:00:00.000Z</td>\n",
              "      <td>8000</td>\n",
              "      <td>‘Saksham Scholarship Program for Drivers’ Chil...</td>\n",
              "      <td>https://www.buddy4study.com/application/SKSP1/...</td>\n",
              "      <td>Applicants must have secured 60% and above mar...</td>\n",
              "      <td>India</td>\n",
              "      <td>Annual family income of the applicants from al...</td>\n",
              "      <td>Children or family members of Mahindra Finance...</td>\n",
              "      <td>Andhra Pradesh</td>\n",
              "      <td>School Student</td>\n",
              "      <td>NaN</td>\n",
              "      <td>400000</td>\n",
              "      <td>2022-08-15T08:56:01.407Z</td>\n",
              "      <td>2022-08-15T08:56:01.407Z</td>\n",
              "      <td>0</td>\n",
              "      <td>NaN</td>\n",
              "      <td>NaN</td>\n",
              "      <td>NaN</td>\n",
              "    </tr>\n",
              "    <tr>\n",
              "      <th>2</th>\n",
              "      <td>62fa0af2b308357159b671d6</td>\n",
              "      <td>Saksham Scholarship Program for Graduate Stude...</td>\n",
              "      <td>2022-08-31T00:00:00.000Z</td>\n",
              "      <td>upto 15000</td>\n",
              "      <td>‘Saksham Scholarship Program for Drivers’ Chil...</td>\n",
              "      <td>https://www.buddy4study.com/application/SKSP2/...</td>\n",
              "      <td>Applicants must be studying in any year of the...</td>\n",
              "      <td>India</td>\n",
              "      <td>Applicants must have secured 60% and above mar...</td>\n",
              "      <td>Annual family income of the applicants from al...</td>\n",
              "      <td>Andhra Pradesh</td>\n",
              "      <td>Graduation</td>\n",
              "      <td>NaN</td>\n",
              "      <td>400000</td>\n",
              "      <td>2022-08-15T08:59:30.849Z</td>\n",
              "      <td>2022-08-15T09:00:01.600Z</td>\n",
              "      <td>0</td>\n",
              "      <td>NaN</td>\n",
              "      <td>NaN</td>\n",
              "      <td>NaN</td>\n",
              "    </tr>\n",
              "    <tr>\n",
              "      <th>3</th>\n",
              "      <td>62fa0bebb308357159b675fc</td>\n",
              "      <td>Saksham Scholarship Program for Postgraduate S...</td>\n",
              "      <td>2022-08-31T00:00:00.000Z</td>\n",
              "      <td>upto 20000</td>\n",
              "      <td>‘Saksham Scholarship Program for Drivers’ Chil...</td>\n",
              "      <td>https://www.buddy4study.com/application/SKSP4/...</td>\n",
              "      <td>Applicants must be studying in any year of the...</td>\n",
              "      <td>India</td>\n",
              "      <td>Applicants must have secured 60% and above mar...</td>\n",
              "      <td>Annual family income of the applicants from al...</td>\n",
              "      <td>Andhra Pradesh</td>\n",
              "      <td>Post Graduation</td>\n",
              "      <td>NaN</td>\n",
              "      <td>400000</td>\n",
              "      <td>2022-08-15T09:03:39.220Z</td>\n",
              "      <td>2022-08-15T09:03:39.220Z</td>\n",
              "      <td>0</td>\n",
              "      <td>NaN</td>\n",
              "      <td>NaN</td>\n",
              "      <td>NaN</td>\n",
              "    </tr>\n",
              "    <tr>\n",
              "      <th>4</th>\n",
              "      <td>62fa1086b308357159b6a381</td>\n",
              "      <td>Santoor Scholarship Programme 2021-22</td>\n",
              "      <td>2023-01-20T00:00:00.000Z</td>\n",
              "      <td>upto 24000</td>\n",
              "      <td>A future full of opportunities is now within y...</td>\n",
              "      <td>NaN</td>\n",
              "      <td>Available only for young women from underprivi...</td>\n",
              "      <td>India</td>\n",
              "      <td>Have passed Class 10 from a local government s...</td>\n",
              "      <td>Have passed Class 12 from a government school/...</td>\n",
              "      <td>Andhra Pradesh</td>\n",
              "      <td>School Student</td>\n",
              "      <td>Female</td>\n",
              "      <td>NaN</td>\n",
              "      <td>2022-08-15T09:23:18.757Z</td>\n",
              "      <td>2022-08-15T09:23:18.757Z</td>\n",
              "      <td>0</td>\n",
              "      <td>NaN</td>\n",
              "      <td>NaN</td>\n",
              "      <td>NaN</td>\n",
              "    </tr>\n",
              "  </tbody>\n",
              "</table>\n",
              "</div>\n",
              "      <button class=\"colab-df-convert\" onclick=\"convertToInteractive('df-63db4036-a5db-4b74-beb0-dd06c589ef82')\"\n",
              "              title=\"Convert this dataframe to an interactive table.\"\n",
              "              style=\"display:none;\">\n",
              "        \n",
              "  <svg xmlns=\"http://www.w3.org/2000/svg\" height=\"24px\"viewBox=\"0 0 24 24\"\n",
              "       width=\"24px\">\n",
              "    <path d=\"M0 0h24v24H0V0z\" fill=\"none\"/>\n",
              "    <path d=\"M18.56 5.44l.94 2.06.94-2.06 2.06-.94-2.06-.94-.94-2.06-.94 2.06-2.06.94zm-11 1L8.5 8.5l.94-2.06 2.06-.94-2.06-.94L8.5 2.5l-.94 2.06-2.06.94zm10 10l.94 2.06.94-2.06 2.06-.94-2.06-.94-.94-2.06-.94 2.06-2.06.94z\"/><path d=\"M17.41 7.96l-1.37-1.37c-.4-.4-.92-.59-1.43-.59-.52 0-1.04.2-1.43.59L10.3 9.45l-7.72 7.72c-.78.78-.78 2.05 0 2.83L4 21.41c.39.39.9.59 1.41.59.51 0 1.02-.2 1.41-.59l7.78-7.78 2.81-2.81c.8-.78.8-2.07 0-2.86zM5.41 20L4 18.59l7.72-7.72 1.47 1.35L5.41 20z\"/>\n",
              "  </svg>\n",
              "      </button>\n",
              "      \n",
              "  <style>\n",
              "    .colab-df-container {\n",
              "      display:flex;\n",
              "      flex-wrap:wrap;\n",
              "      gap: 12px;\n",
              "    }\n",
              "\n",
              "    .colab-df-convert {\n",
              "      background-color: #E8F0FE;\n",
              "      border: none;\n",
              "      border-radius: 50%;\n",
              "      cursor: pointer;\n",
              "      display: none;\n",
              "      fill: #1967D2;\n",
              "      height: 32px;\n",
              "      padding: 0 0 0 0;\n",
              "      width: 32px;\n",
              "    }\n",
              "\n",
              "    .colab-df-convert:hover {\n",
              "      background-color: #E2EBFA;\n",
              "      box-shadow: 0px 1px 2px rgba(60, 64, 67, 0.3), 0px 1px 3px 1px rgba(60, 64, 67, 0.15);\n",
              "      fill: #174EA6;\n",
              "    }\n",
              "\n",
              "    [theme=dark] .colab-df-convert {\n",
              "      background-color: #3B4455;\n",
              "      fill: #D2E3FC;\n",
              "    }\n",
              "\n",
              "    [theme=dark] .colab-df-convert:hover {\n",
              "      background-color: #434B5C;\n",
              "      box-shadow: 0px 1px 3px 1px rgba(0, 0, 0, 0.15);\n",
              "      filter: drop-shadow(0px 1px 2px rgba(0, 0, 0, 0.3));\n",
              "      fill: #FFFFFF;\n",
              "    }\n",
              "  </style>\n",
              "\n",
              "      <script>\n",
              "        const buttonEl =\n",
              "          document.querySelector('#df-63db4036-a5db-4b74-beb0-dd06c589ef82 button.colab-df-convert');\n",
              "        buttonEl.style.display =\n",
              "          google.colab.kernel.accessAllowed ? 'block' : 'none';\n",
              "\n",
              "        async function convertToInteractive(key) {\n",
              "          const element = document.querySelector('#df-63db4036-a5db-4b74-beb0-dd06c589ef82');\n",
              "          const dataTable =\n",
              "            await google.colab.kernel.invokeFunction('convertToInteractive',\n",
              "                                                     [key], {});\n",
              "          if (!dataTable) return;\n",
              "\n",
              "          const docLinkHtml = 'Like what you see? Visit the ' +\n",
              "            '<a target=\"_blank\" href=https://colab.research.google.com/notebooks/data_table.ipynb>data table notebook</a>'\n",
              "            + ' to learn more about interactive tables.';\n",
              "          element.innerHTML = '';\n",
              "          dataTable['output_type'] = 'display_data';\n",
              "          await google.colab.output.renderOutput(dataTable, element);\n",
              "          const docLink = document.createElement('div');\n",
              "          docLink.innerHTML = docLinkHtml;\n",
              "          element.appendChild(docLink);\n",
              "        }\n",
              "      </script>\n",
              "    </div>\n",
              "  </div>\n",
              "  "
            ]
          },
          "metadata": {},
          "execution_count": 3
        }
      ]
    },
    {
      "cell_type": "code",
      "metadata": {
        "colab": {
          "base_uri": "https://localhost:8080/"
        },
        "id": "Qrtr0oQbIjwF",
        "outputId": "e50f5f42-dfb2-4b52-ee52-2d353a9f0801"
      },
      "source": [
        "# number of rows and columns in the data frame\n",
        "\n",
        "movies_data.shape"
      ],
      "execution_count": 4,
      "outputs": [
        {
          "output_type": "execute_result",
          "data": {
            "text/plain": [
              "(193, 20)"
            ]
          },
          "metadata": {},
          "execution_count": 4
        }
      ]
    },
    {
      "cell_type": "code",
      "metadata": {
        "colab": {
          "base_uri": "https://localhost:8080/"
        },
        "id": "hunvyruUJhVq",
        "outputId": "854e3ccb-1603-4935-d132-56ddf80c6b7e"
      },
      "source": [
        "# selecting the relevant features for recommendation\n",
        "\n",
        "selected_features = ['title','description','elegibility','elegibility3','income']\n",
        "print(selected_features)"
      ],
      "execution_count": 5,
      "outputs": [
        {
          "output_type": "stream",
          "name": "stdout",
          "text": [
            "['title', 'description', 'elegibility', 'elegibility3', 'income']\n"
          ]
        }
      ]
    },
    {
      "cell_type": "code",
      "metadata": {
        "id": "CKIVE6OWKSYk"
      },
      "source": [
        "# replacing the null valuess with null string\n",
        "\n",
        "for feature in selected_features:\n",
        "  movies_data[feature] = movies_data[feature].fillna('')"
      ],
      "execution_count": 6,
      "outputs": []
    },
    {
      "cell_type": "code",
      "metadata": {
        "id": "-AMjrRItLCO1"
      },
      "source": [
        "# combining all the 5 selected features\n",
        "\n",
        "combined_features = movies_data['title']+' '+movies_data['description']+' '+movies_data['elegibility']+' '+movies_data['elegibility3']+' '+movies_data['income']"
      ],
      "execution_count": 7,
      "outputs": []
    },
    {
      "cell_type": "code",
      "metadata": {
        "colab": {
          "base_uri": "https://localhost:8080/"
        },
        "id": "ZYjFXx3aLwTh",
        "outputId": "af055d21-986d-452a-ab23-36935aa08032"
      },
      "source": [
        "print(combined_features)"
      ],
      "execution_count": 8,
      "outputs": [
        {
          "output_type": "stream",
          "name": "stdout",
          "text": [
            "0      Virchow Scholarship Program Virchow Scholarshi...\n",
            "1      Saksham Scholarship Program for Class 9-12 Stu...\n",
            "2      Saksham Scholarship Program for Graduate Stude...\n",
            "3      Saksham Scholarship Program for Postgraduate S...\n",
            "4      Santoor Scholarship Programme 2021-22 A future...\n",
            "                             ...                        \n",
            "188    RGS-IBG Postgraduate Research Awards 2022 RGS-...\n",
            "189    Faculty of Science Postgraduate Writing-Up Awa...\n",
            "190    KTH India Scholarship 2022 KTH India Scholarsh...\n",
            "191    test scholarship this is test scholarship Stud...\n",
            "192     teasdfsdf sdsc Class 10 passed school students  \n",
            "Length: 193, dtype: object\n"
          ]
        }
      ]
    },
    {
      "cell_type": "code",
      "metadata": {
        "id": "BfuttC_gLyfF"
      },
      "source": [
        "# converting the text data to feature vectors\n",
        "\n",
        "vectorizer = TfidfVectorizer()"
      ],
      "execution_count": 9,
      "outputs": []
    },
    {
      "cell_type": "code",
      "metadata": {
        "id": "Leo5rQskMKxL"
      },
      "source": [
        "feature_vectors = vectorizer.fit_transform(combined_features)"
      ],
      "execution_count": 10,
      "outputs": []
    },
    {
      "cell_type": "code",
      "metadata": {
        "colab": {
          "base_uri": "https://localhost:8080/"
        },
        "id": "qNbeeMSnMb2F",
        "outputId": "b3744042-73da-4567-f30e-0228fef2f9b9"
      },
      "source": [
        "print(feature_vectors)"
      ],
      "execution_count": 11,
      "outputs": [
        {
          "output_type": "stream",
          "name": "stdout",
          "text": [
            "  (0, 63)\t0.09971983838095477\n",
            "  (0, 506)\t0.10449653041274526\n",
            "  (0, 818)\t0.07114231991656131\n",
            "  (0, 65)\t0.10449653041274526\n",
            "  (0, 773)\t0.08965876972130336\n",
            "  (0, 1149)\t0.08488207768951288\n",
            "  (0, 874)\t0.062841669903313\n",
            "  (0, 149)\t0.0636201689237996\n",
            "  (0, 933)\t0.06899989699558698\n",
            "  (0, 935)\t0.08488207768951288\n",
            "  (0, 567)\t0.07926581280474482\n",
            "  (0, 1044)\t0.11933429110418715\n",
            "  (0, 543)\t0.04438607567249529\n",
            "  (0, 790)\t0.0925171912861968\n",
            "  (0, 1321)\t0.09971983838095477\n",
            "  (0, 1313)\t0.11933429110418715\n",
            "  (0, 1017)\t0.11933429110418715\n",
            "  (0, 1292)\t0.07482100902986147\n",
            "  (0, 209)\t0.0776794305947549\n",
            "  (0, 339)\t0.07620254409034495\n",
            "  (0, 679)\t0.11065475750501923\n",
            "  (0, 382)\t0.08488207768951288\n",
            "  (0, 1111)\t0.08488207768951288\n",
            "  (0, 1205)\t0.062090492346353374\n",
            "  (0, 362)\t0.08488207768951288\n",
            "  :\t:\n",
            "  (190, 707)\t0.02544165459300622\n",
            "  (190, 1139)\t0.08333572631654658\n",
            "  (191, 1288)\t0.6884733528974146\n",
            "  (191, 986)\t0.22088711688384474\n",
            "  (191, 989)\t0.26112063097343463\n",
            "  (191, 1091)\t0.27290090165551734\n",
            "  (191, 367)\t0.23817259009875208\n",
            "  (191, 1062)\t0.18548074524587763\n",
            "  (191, 405)\t0.1818636598374037\n",
            "  (191, 1011)\t0.20454099901641953\n",
            "  (191, 1040)\t0.21224148248698638\n",
            "  (191, 419)\t0.22088711688384474\n",
            "  (191, 941)\t0.1312432449775597\n",
            "  (191, 1238)\t0.07235900307758357\n",
            "  (191, 1303)\t0.1270693815982178\n",
            "  (191, 1310)\t0.07658748900429196\n",
            "  (191, 707)\t0.07235900307758357\n",
            "  (191, 1139)\t0.1580109515536854\n",
            "  (192, 1152)\t0.605772648013937\n",
            "  (192, 1277)\t0.605772648013937\n",
            "  (192, 1141)\t0.34037646215072154\n",
            "  (192, 6)\t0.21789150367157006\n",
            "  (192, 312)\t0.16086313487454826\n",
            "  (192, 970)\t0.2538435830635602\n",
            "  (192, 1238)\t0.11150175628057377\n"
          ]
        }
      ]
    },
    {
      "cell_type": "markdown",
      "metadata": {
        "id": "qEGga5yPMnXO"
      },
      "source": [
        "Cosine Similarity"
      ]
    },
    {
      "cell_type": "code",
      "metadata": {
        "id": "MsKYCs31MeB6"
      },
      "source": [
        "# getting the similarity scores using cosine similarity\n",
        "\n",
        "similarity = cosine_similarity(feature_vectors)"
      ],
      "execution_count": 12,
      "outputs": []
    },
    {
      "cell_type": "code",
      "metadata": {
        "colab": {
          "base_uri": "https://localhost:8080/"
        },
        "id": "46ha1PfTM-oQ",
        "outputId": "75caa5e0-7cd3-4324-cf00-ae3a7be72806"
      },
      "source": [
        "print(similarity)"
      ],
      "execution_count": 13,
      "outputs": [
        {
          "output_type": "stream",
          "name": "stdout",
          "text": [
            "[[1.         0.24925887 0.26038401 ... 0.10744835 0.08123135 0.0515903 ]\n",
            " [0.24925887 1.         0.8591068  ... 0.09935575 0.04547882 0.02485143]\n",
            " [0.26038401 0.8591068  1.         ... 0.12947817 0.04051894 0.01276808]\n",
            " ...\n",
            " [0.10744835 0.09935575 0.12947817 ... 1.         0.10564964 0.01366968]\n",
            " [0.08123135 0.04547882 0.04051894 ... 0.10564964 1.         0.00806816]\n",
            " [0.0515903  0.02485143 0.01276808 ... 0.01366968 0.00806816 1.        ]]\n"
          ]
        }
      ]
    },
    {
      "cell_type": "code",
      "metadata": {
        "colab": {
          "base_uri": "https://localhost:8080/"
        },
        "id": "PLkvII-wM_5I",
        "outputId": "f3ef2b9c-5613-4072-df4b-729259c270f0"
      },
      "source": [
        "print(similarity.shape)"
      ],
      "execution_count": 14,
      "outputs": [
        {
          "output_type": "stream",
          "name": "stdout",
          "text": [
            "(193, 193)\n"
          ]
        }
      ]
    },
    {
      "cell_type": "markdown",
      "metadata": {
        "id": "EG3JItMUWeDD"
      },
      "source": [
        "Getting the movie name from the user"
      ]
    },
    {
      "cell_type": "code",
      "metadata": {
        "colab": {
          "base_uri": "https://localhost:8080/"
        },
        "id": "bhSWJgqgNDo7",
        "outputId": "fb9eb43e-eacc-4975-d3ed-ce5cd340aa7c"
      },
      "source": [
        "# getting the movie name from the user\n",
        "\n",
        "movie_name = input(' Enter your favourite movie name : ')"
      ],
      "execution_count": 15,
      "outputs": [
        {
          "name": "stdout",
          "output_type": "stream",
          "text": [
            " Enter your favourite movie name : NEC Merit Scholarship\n"
          ]
        }
      ]
    },
    {
      "cell_type": "code",
      "metadata": {
        "colab": {
          "base_uri": "https://localhost:8080/"
        },
        "id": "VQ8Qvu8vNj4U",
        "outputId": "9e1ae18d-d2d0-45bc-8388-2e69ea59c375"
      },
      "source": [
        "# creating a list with all the movie names given in the dataset\n",
        "\n",
        "list_of_all_titles = movies_data['title'].tolist()\n",
        "print(list_of_all_titles)"
      ],
      "execution_count": 16,
      "outputs": [
        {
          "output_type": "stream",
          "name": "stdout",
          "text": [
            "['Virchow Scholarship Program', 'Saksham Scholarship Program for Class 9-12 Students 2022-23', 'Saksham Scholarship Program for Graduate Students 2022-23', 'Saksham Scholarship Program for Postgraduate Students 2022-23', 'Santoor Scholarship Programme 2021-22', 'NEC Merit Scholarship for Students of NER 2022-23', 'Special Scholarship Scheme Ishan Uday for NER 2022-23', 'Umbrella Scheme for Education of ST Children Post Matric Scholarship, Arunachal Pradesh 2021-22', 'Scheme for Award of Stipend to ST Students, Arunachal Pradesh 2021', 'Tata AIG Avanti Fellows Scholarship Program 2022', 'Post-Matric Scholarship for SC Students 2022-23, Assam', ' NEC Merit Scholarship for Students of NER 2022-23', 'Special Scholarship Scheme Ishan Uday for Assam 2022-23 ', ' Tata AIG Avanti Fellows Scholarship Program Assam 2022', 'Post-Matric Scholarship for OBC Students 2022-23, Assam', 'Pre-Matric Scholarship for ST Students (Class 9 & 10) 2021-22, Assam', 'Vidyadhan Bihar Plus 2 (1st year) Program 2022', 'Bihar Mukhyamantri Atyant Pichhda Varg Civil Seva Protsahan Yojana 2022', 'Pre Matric Scholarship Scheme for OBC Students, Chandigarh 2022-23', 'Post Matric Scholarship for SC Students, Chandigarh 2021-22', 'Post Matric Scholarship for OBC Students, Chandigarh 2021-22', 'Post Matric Scholarship for Transgender Students, Chandigarh 2021-22', 'Pre Matric Scholarship Scheme for SC Students of Class IX and X, Chandigarh 2021-22', 'Pre Matric Scholarship to Scheduled Caste Students, Dadra and Nagar Haveli 2022', 'Post Matric Scholarship for SC Students - DNHDD 2022-23', 'Pre Matric Scholarship to OBC Students, Dadra and Nagar Haveli 2021', 'Saksham Scholarship Program for Class 1-8 Students 2022-23', 'Directorate of Municipal Administration, Mumbai Management Internship Programme 2022', 'Post Matric Scholarship for OBC Students - DNHDD 2021-22', 'Pre Matric Scholarship to Scheduled Tribe Students, Dadra and Nagar Haveli 2021', 'Post Matric Scholarship for ST Students - DNHDD 2021-22', 'Post Matric Scholarship for OBC Students daman-diu - DNHDD 2021-22', 'Post Matric Scholarship for ST Students Daman Diu - DNHDD 2021-22', 'Unnati- Towards a Better Future Scholarship for School Students', 'Unnati- Towards a Better Future Scholarship for ITI/Diploma Students', 'Jai Bhim Mukhyamantri Pratibha Vikas Yojna, Delhi 2020', 'Vidyadhan Delhi Class 11 and 12 Scholarship Program 2021', 'BYPL SASHAKT Scholarship', 'Swami Dayanand College Scholarship for Delhi/NCR 2021-22', 'Swami Dayanand School Scholarship for Delhi/NCR 2021-22', 'Post Matric Scholarship for ST Students, Goa 2021-22', 'Pre Matric Scholarship for ST Students (Class 9 & 10), Goa 2021-22', 'Nilam Patel Bahushrut Foundation- For SSC Students Scholarship 2022', 'Nilam Patel Bahushrut Foundation- For HSC and Above Students Scholarship 2022', 'Nilam Patel Bahushrut Foundation- To Study Abroad Scholarship 2022', 'Vidyadhan Gujarat Class 11 and 12 Scholarship Program 2022', 'Schaeffler India COVID Crisis Support Scholarship', 'Federal Bank Hormis Memorial Foundation Scholarship 2021-22', ' Post Matric Scholarship for OBC students, Gujarat 2021-22', 'Post Matric Scholarship for ST Students, Gujarat 2021-22', 'The Cadence Scholarship Program 2022-23', ' Unnati- Towards a Better Future Scholarship Haryana', 'Unnati- Towards a Better Future Scholarship for ITI/Diploma Students Haryana', ' Promotion of Science Education (POSE) Scholarship Scheme 2021-22', 'Post Matric Scholarship to Lower Income Group Students, Haryana 2021-22', 'State Merit Scholarship for UG/PG Student Haryana 2 2021-22', ' Haryana State Meritorious Incentive Scheme 2021-22', ' State Meritorious Incentives Scheme (CBSE), Haryana 2021-22', 'Post Matric Scholarship for OBC Students, Haryana 2021-22', 'Post Matric Scholarship for SC Students, Haryana 2021-22', 'Haryana Vigyan/Yuva Vigyan Ratna Awards 2022-23', 'Centrally Sponsored Post Matric Scholarship for ST Students, Himachal Pradesh 2022', 'Centrally Sponsored Post Matric Scholarship Scheme for OBC Students, Himachal Pradesh 2022', 'Centrally Sponsored Pre Matric Scholarship Scheme for ST Students, Himachal Pradesh 2022', 'Centrally Sponsored Pre Matric Scholarship Scheme for OBC Students, Himachal Pradesh 2022', 'Dr. Ambedkar Post Matric Scholarship for Economically Backward Classes, Himachal Pradesh 2022', 'Mukhya Mantri Protsahan Yojana 2022, Himachal Pradesh', 'Maharishi Balmiki Chatravriti Yojana 2022, Himachal Pradesh', 'Kalpana Chawla Chatravriti Yojana 2022, Himachal Pradesh', 'Indira Gandhi Utkrisht Chatravriti Yojana 2022, Himachal Pradesh', 'Centrally Sponsored Post Matric Scholarship Scheme for SC Students, Himachal Pradesh 2021', 'Centrally Sponsored Pre Matric Scholarship Scheme for SC Students, Himachal Pradesh 2021', 'Integrated Rural Development Program (IRDP) 2021, Himachal Pradesh', 'Thakur Sen Negi Utkrisht Chatravriti Yojana 2021, Himachal Pradesh', 'Swami Vivekanand Utkrisht Chatravriti Yojana, Himachal Pradesh 2021', 'Dr. Ambedkar Medhavi Chatravriti Yojana for SC Students, Himachal Pradesh 2021', 'Dr. Ambedkar Medhavi Chatravriti Yojana for OBC Students, Himachal Pradesh 2021', 'Sainik School Sujanpur Tihra Scholarship, Himachal Pradesh 2021-22', 'Himachal Pradesh Board of School Education Merit Scholarship 2022', 'Post Matric Scholarship Scheme for ST Students, Jammu and Kashmir 2021', \"Prime Minister's Special Scholarship Scheme (PMSSS), J&K 2021-22\", \"Prime Minister's Special Scholarship Scheme (PMSSS), J&K 2022-23\", 'Marang Gomke Jaipal Singh Munda Overseas Scholarship 2022-23', 'Merck India Charitable Trust (MICT) Scholarship Program 2021-22', \"Santoor Women's Scholarship 2020\", 'Merit Cum Means Scholarship for Minorities, Karnataka 2022', 'Post-Matric Scholarship for Minorities of Karnataka 2022', 'The Cadence Scholarship Program 2022-23(Karnataka)', 'Vidyadhan Karnataka Class 11 and 12 Scholarship Program 2022', 'Vidyadhan Kerala Plus 1 Scholarship 2021', 'Pre-Matric Scholarship for OBC Students 2021-22, Kerala', 'Post Matric OBC Scholarship for CA, CMA, CS 2021-22, Kerala', 'Prof. Joseph Mundassery Scholarship Award (PJMS), Kerala 2021-22', 'Dr. Ambedkar Post Matric Scholarship for Economically Backward Classes (EBC), Kerala 2021-22', 'Mother Teresa Scholarship (MTS), Kerala 2021-22', 'ITC Fee Reimbursement Scholarship, Kerala 2021-22', 'APJ Abdul Kalaam Scholarship (APJAK), Kerala 2021-22', 'Anandam Senapathi Scholarship, Kerala 2021', 'KSCSTE Kerala Research Fellowship 2021', 'KSCSTE Kerala Biotechnology Post-Doctoral Fellowship (BPDF) 2021', 'CA/ICWA/CS Scholarship (IWCS), Kerala 2021-22', 'Muslim Nadar Girls Scholarship, Kerala 2021-22', 'Centrally Sponsored Pre Matric Scholarship Scheme ST Students (Class 9 & 10) - Ladakh 2021', 'Centrally Sponsored Post Matric Scholarship Scheme for ST Students - Ladakh 2021', 'Gaon Ki Beti Scholarship, Madhya Pradesh 2021-22', 'Pratibha Kiran Scholarship, Madhya Pradesh 2021-22 Last Updated On : 16-02-2022', 'Nilam Patel Bahushrut Foundation- For SSC Students Scholarship 2022(Maharashtra)', 'Nilam Patel Bahushrut Foundation- For HSC and Above Students Scholarship 2022(Maharashtra)', 'Nilam Patel Bahushrut Foundation- To Study Abroad Scholarship 2022(Maharashtra)', 'Pre-Matric Scholarship for SC Students, Manipur 2022-23', 'Pre Matric Scholarship for OBC Students, Manipur 2022-23', 'Post-Matric Scholarship for SC Students, Manipur 2022-23', 'NEC Merit Scholarship for Students of NER 2022-23(Manipur)', 'Special Scholarship Scheme Ishan Uday for NER 2022-23(Manipur)', 'Post Matric Scholarship for OBC Students, Manipur 2022-23', 'NEC Merit Scholarship for Students of NER 2022-23(Meghalaya)', 'Special Scholarship Scheme Ishan Uday for NER 2022-23(Meghalaya)', 'Pre-Matric Scholarships for SC Students, Meghalaya 2022-23', 'Post Matric Scholarship for SC Students, Meghalaya 2022-23', 'NEC Merit Scholarship for Students of NER 2022-23(Mizoram)', 'Special Scholarship Scheme Ishan Uday for NER 2022-23(Mizoram)', 'NEC Merit Scholarship for Students of NER 2022-23(Nagaland)', 'Special Scholarship Scheme Ishan Uday for NER 2022-23(Nagaland)', 'Vidyadhan Odisha Plus 2 (1st year) Scholarship Program 2021', 'Kalia Scholarship for ST/SC/OBC/SEBC/GENERAL/EBC Communities 2021-22, Odisha', 'Sudakshya for Girls Child Scholarship for ST/SC/OBC/SEBC/GENERAL/EBC Communities 2021-22, Odisha', 'Junior Merit Scholarship for ST/SC/OBC/SEBC/GENERAL/EBC Communities 2021-22, Odisha', 'Pre Matric Scholarship for SC Students (Class 9 & 10) - Puducherry 2022-23', 'Post Matric Scholarship for SC Students - Puducherry 2022-23', 'Pre Matric Scholarship for ST Students (Class 9 & 10) - Puducherry 2022-23', 'Post Matric Scholarship for ST Students - Puducherry 2022-23', 'Pre Matric Scholarship for SC Students (Class 6 to 10) - Puducherry 2022-23', 'Adhoc Merit Grant for SC Students - Puducherry 2022-23', 'Retention Scholarship for SC Girl Students - Puducherry 2022-23', 'Opportunity Cost to Parents of SC Girl Students - Puducherry 2022-23', 'Stipend to SC Trainers in Government ITI - Puducherry 2022-23', 'Pre Matric Scholarship for SC Students and Others, Punjab 2022-23', 'Rajiv Gandhi Scholarship for Academic Excellence (RGS), Rajasthan 2021', 'Rajasthan Paperless Post Matric Scholarship 2021-22', 'Rajiv Gandhi Scholarship for Academic Excellence (RGS), Rajasthan 2022', 'Rajasthan Paperless Post Matric Scholarship 2022-23', 'NEC Merit Scholarship for Students of NER 2022-23(Sikkim)', 'Saksham Scholarship Program for Class 9-12 Students 2022-23(Tamilnadu)', 'Saksham Scholarship Program for Class 1-8 Students 2022-23(Tamilnadu)', 'Saksham Scholarship Program for Graduate Students 2022-23(Tamilnadu)', 'Saksham Scholarship Program for Postgraduate Students 2022-23(Tamilnadu)', 'Virchow Scholarship Program 2022', 'Saksham Scholarship Program for Class 9-12 Students 2022-23(Telengana)', 'Saksham Scholarship Program for Class 1-8 Students 2022-23(Telangana)', 'Saksham Scholarship Program for Graduate Students 2022-23(Telangana)', 'Saksham Scholarship Program for Postgraduate Students 2022-23(Telangana)', 'Santoor Scholarship Programme 2022-23(Telangana)', 'Post Matric Scholarships Scheme for ST Students, Tripura 2022-23', 'Pre Matric ST Scholarship Schemes Class 9 and 10, Tripura 2022-23', 'NEC Merit Scholarship for Students of NER 2022-23(Tripura)', 'Special Scholarship Scheme Ishan Uday for NER 2022-23(Tripura)', 'Post Matric Scholarship for SC Students, Tripura 2022-23', 'Pre Matric SC Cleaning and Health Hazard Scholarship, Tripura 2022-23', 'Pre Matric SC Class 9 and 10 Scholarship Tripura 2022-23', 'Pre Matric Scholarship for SC, ST & General Students, Uttar Pradesh 2022-23', 'Pre Matric Scholarship for Minority Students, Uttar Pradesh 2022-23', 'Pre Matric Scholarship for OBC Students, Uttar Pradesh 2022-23', 'Postmatric (Other Than Intermediate) Scholarship for OBC, Uttar Pradesh 2022-23', 'Postmatric (Other Than Intermediate) Scholarship for Minorities, Uttar Pradesh 2022-23', 'Postmatric (Other than Intermediate) Scholarship for ST, SC, General Category, Uttar Pradesh 2022-23', 'Post-Matric Scholarship for SC Students, Uttarakhand 2021-22', 'Post-Matric Scholarship for OBC Students, Uttarakhand 2021-22', 'Pre-Matric Scholarship for SC Students (State Sector), Uttarakhand 2021-22', 'Pre-Matric Scholarship for ST Students (State Sector), Uttarakhand 2021-22', 'G. P. Birla Scholarship 2022', \"Humanities and Social Sciences Dean's International Excellence Award (Undergraduate) 2022\", 'The Leap Scholarship 2022', 'The Singapore International Pre-Graduate Award (SIPGA) 2022', 'The Singapore International Graduate Award (SINGA) 2022', 'ICICI Bank iSMART Education Loans', 'International MPhil Scholarships', 'Chinese Government Scholarship – Excellence Scholarship for International Student Program', 'Global Scholarship Program (GSP)', 'Chengdu Government Scholarships for International Students from Sister Cities', 'SEMPER SOLARIS', 'Killam Doctoral Scholarships 2022', 'Fulbright Kalam Climate Fellowship for Doctoral Research 2023-24', \"Academic Excellence International Masters Scholarship 2022 invites applications from master's degree applicants. The scholarship is being offered by the University of Essex. The selected candidates will receive variable awards.\", 'Chevening Research, Science, and Innovation Leadership Fellowship (CRISP) 2022', 'Chevening India Cyber Security Fellowship 2022', 'The Singapore International Pre-Graduate Award (SIPGA) 2022-23', 'Charpak Exchange Scholarship 2022', 'Deakin International Merit Scholarship (South Asia – Onshore) 2021-22', 'RGS-IBG Postgraduate Research Awards 2022', 'Faculty of Science Postgraduate Writing-Up Award, University of Melbourne, 2022', 'KTH India Scholarship 2022', 'test scholarship', 'teasdfsdf']\n"
          ]
        }
      ]
    },
    {
      "cell_type": "code",
      "metadata": {
        "colab": {
          "base_uri": "https://localhost:8080/"
        },
        "id": "u1HTkBLIOBjf",
        "outputId": "63a0d277-631e-4339-acbe-36857e9b07dd"
      },
      "source": [
        "# finding the close match for the movie name given by the user\n",
        "\n",
        "find_close_match = difflib.get_close_matches(movie_name, list_of_all_titles)\n",
        "print(find_close_match)"
      ],
      "execution_count": 17,
      "outputs": [
        {
          "output_type": "stream",
          "name": "stdout",
          "text": [
            "['test scholarship', 'NEC Merit Scholarship for Students of NER 2022-23']\n"
          ]
        }
      ]
    },
    {
      "cell_type": "code",
      "metadata": {
        "colab": {
          "base_uri": "https://localhost:8080/"
        },
        "id": "CgiC-enuOfXx",
        "outputId": "c1577f46-590f-4515-8295-69cc44093153"
      },
      "source": [
        "close_match = find_close_match[0]\n",
        "print(close_match)"
      ],
      "execution_count": 18,
      "outputs": [
        {
          "output_type": "stream",
          "name": "stdout",
          "text": [
            "test scholarship\n"
          ]
        }
      ]
    },
    {
      "cell_type": "code",
      "metadata": {
        "colab": {
          "base_uri": "https://localhost:8080/"
        },
        "id": "CNXJfY-FOw1I",
        "outputId": "f675cd90-653b-42a1-e3ce-2113e858201f"
      },
      "source": [
        "# finding the index of the movie with title\n",
        "\n",
        "index_of_the_movie = movies_data[movies_data['title'] == close_match].index.values[0]\n",
        "print(index_of_the_movie)"
      ],
      "execution_count": 19,
      "outputs": [
        {
          "output_type": "stream",
          "name": "stdout",
          "text": [
            "191\n"
          ]
        }
      ]
    },
    {
      "cell_type": "code",
      "metadata": {
        "colab": {
          "base_uri": "https://localhost:8080/"
        },
        "id": "dyUeQZpvPbkx",
        "outputId": "e903c1cb-f97b-4835-c462-102523c7a7a6"
      },
      "source": [
        "# getting a list of similar movies\n",
        "\n",
        "similarity_score = list(enumerate(similarity[index_of_the_movie]))\n",
        "print(similarity_score)"
      ],
      "execution_count": 20,
      "outputs": [
        {
          "output_type": "stream",
          "name": "stdout",
          "text": [
            "[(0, 0.081231353147531), (1, 0.04547881576902087), (2, 0.040518941733055966), (3, 0.05675387363664836), (4, 0.0910612601683836), (5, 0.2579441014248901), (6, 0.049933751488323644), (7, 0.037448996932743936), (8, 0.059310063895014094), (9, 0.043059698917702297), (10, 0.04649768122898686), (11, 0.19022091676785416), (12, 0.04446849960935559), (13, 0.04498556634092562), (14, 0.055020687305457144), (15, 0.052566903934865086), (16, 0.020184239324826884), (17, 0.009682353241661314), (18, 0.039855235451541994), (19, 0.06865453193763453), (20, 0.05449922461619033), (21, 0.04495000171221199), (22, 0.053818649767112946), (23, 0.05332318510487015), (24, 0.05048196794666374), (25, 0.027476642943501904), (26, 0.04200415521850366), (27, 0.05188654191015314), (28, 0.029904496818968316), (29, 0.039840562545365624), (30, 0.026568315218781807), (31, 0.027015002210274763), (32, 0.024089733998786618), (33, 0.05260034630745984), (34, 0.06385829912246097), (35, 0.019611881733209723), (36, 0.03705731585878344), (37, 0.08804450383286172), (38, 0.039916594221407684), (39, 0.03644982479497284), (40, 0.06824573833210186), (41, 0.04239010767187128), (42, 0.04192944418436012), (43, 0.03747167686499499), (44, 0.0792456272591538), (45, 0.03478258248380682), (46, 0.06137558256272986), (47, 0.0494962805463105), (48, 0.07174135556751363), (49, 0.047949219145070145), (50, 0.07928478410113413), (51, 0.06413081134425126), (52, 0.07951913690804154), (53, 0.06520826170098702), (54, 0.04207575601302255), (55, 0.06311104144543717), (56, 0.0563004492085967), (57, 0.01735323432242187), (58, 0.04406144749162989), (59, 0.047349675616343276), (60, 0.004030737673010308), (61, 0.051831049931820423), (62, 0.04052276436344755), (63, 0.039381878157177544), (64, 0.046683777506398835), (65, 0.06299189743070507), (66, 0.15747023448102515), (67, 0.014641267059140163), (68, 0.057815531638094865), (69, 0.011355486668465297), (70, 0.047456071843520915), (71, 0.04104912563967509), (72, 0.04001560575852129), (73, 0.025475119134335915), (74, 0.026989661785829986), (75, 0.020660119527376133), (76, 0.03170524372426025), (77, 0.0332317011319322), (78, 0.04592957108855067), (79, 0.05411335285276372), (80, 0.08476936373727167), (81, 0.08234307769616239), (82, 0.0353932313884051), (83, 0.05031828068372893), (84, 0.08304634982334781), (85, 0.061485049981756267), (86, 0.17299573014338648), (87, 0.035582624672946636), (88, 0.028298261535176283), (89, 0.03599637212779144), (90, 0.04654315370310902), (91, 0.04212117868216847), (92, 0.03919704467846169), (93, 0.04567262753281148), (94, 0.09088234043224827), (95, 0.0463032373697913), (96, 0.09497342439832647), (97, 0.044934117354514684), (98, 0.10434632675429882), (99, 0.06808202559838832), (100, 0.038095206336499585), (101, 0.07806535192515196), (102, 0.030404553305317536), (103, 0.07291421135121538), (104, 0.031043258347309352), (105, 0.03206969585542725), (106, 0.037153290423718566), (107, 0.036103227422565144), (108, 0.07788504761425717), (109, 0.046760840006392634), (110, 0.03906492361314587), (111, 0.0658651692994393), (112, 0.35664610913151773), (113, 0.043291767935428764), (114, 0.041006851762075094), (115, 0.39708348194486165), (116, 0.05249147364419308), (117, 0.05309170629110469), (118, 0.08619226978887545), (119, 0.3966755981120196), (120, 0.05243761246136139), (121, 0.12811355398572344), (122, 0.05243761246136139), (123, 0.0412704252200511), (124, 0.07753008569061924), (125, 0.04038937713976713), (126, 0.02918783479455206), (127, 0.0360023735367446), (128, 0.0701175584556617), (129, 0.03791274467223398), (130, 0.029506266707850882), (131, 0.03812266123801793), (132, 0.033579457819794746), (133, 0.03738808454850598), (134, 0.03182501592493902), (135, 0.025942861835612112), (136, 0.03004534987523988), (137, 0.06018781945740932), (138, 0.026485660184827266), (139, 0.05922523541567752), (140, 0.020820422590079105), (141, 0.45697321313269484), (142, 0.041478911052913923), (143, 0.04322884371122959), (144, 0.0375818318056671), (145, 0.05850910372781226), (146, 0.09229148178743127), (147, 0.06714336056570129), (148, 0.03772614026660094), (149, 0.037508078346472566), (150, 0.058394716763588116), (151, 0.06752550956986345), (152, 0.038064357975986056), (153, 0.042067322422281075), (154, 0.39745712027140734), (155, 0.042991291751462636), (156, 0.07708195922976344), (157, 0.025475361889309156), (158, 0.04622145219689129), (159, 0.034336324119247474), (160, 0.04047081653724505), (161, 0.045076952110977946), (162, 0.09435888353502384), (163, 0.09458024766091412), (164, 0.09873751991276819), (165, 0.06860733588393994), (166, 0.0651661357570253), (167, 0.04866526838783374), (168, 0.04826747186700822), (169, 0.03039781565653185), (170, 0.024950632481585924), (171, 0.08426896200224678), (172, 0.04402777727052106), (173, 0.013250706640544632), (174, 0.023063212036526153), (175, 0.031176046466899313), (176, 0.04910720802511011), (177, 0.030683063291348366), (178, 0.02432809558978239), (179, 0.020332191515390848), (180, 0.0603065664803186), (181, 0.056635268650269355), (182, 0.061210306307015926), (183, 0.07886894199211346), (184, 0.10536136039910997), (185, 0.05354078623982529), (186, 0.05701587954342318), (187, 0.06929598614607643), (188, 0.07964134260608711), (189, 0.1469260444965384), (190, 0.10564964249810367), (191, 1.0000000000000004), (192, 0.008068155925862013)]\n"
          ]
        }
      ]
    },
    {
      "cell_type": "code",
      "metadata": {
        "colab": {
          "base_uri": "https://localhost:8080/"
        },
        "id": "mMrxw-leQNtP",
        "outputId": "922ef53a-4d2c-4f82-aca5-5b63892e5e60"
      },
      "source": [
        "len(similarity_score)"
      ],
      "execution_count": 21,
      "outputs": [
        {
          "output_type": "execute_result",
          "data": {
            "text/plain": [
              "193"
            ]
          },
          "metadata": {},
          "execution_count": 21
        }
      ]
    },
    {
      "cell_type": "code",
      "metadata": {
        "colab": {
          "base_uri": "https://localhost:8080/"
        },
        "id": "SkXgFLePQkHL",
        "outputId": "4cd85a68-6042-4044-c03b-bc12968061b5"
      },
      "source": [
        "# sorting the movies based on their similarity score\n",
        "\n",
        "sorted_similar_movies = sorted(similarity_score, key = lambda x:x[1], reverse = True) \n",
        "print(sorted_similar_movies)"
      ],
      "execution_count": 22,
      "outputs": [
        {
          "output_type": "stream",
          "name": "stdout",
          "text": [
            "[(191, 1.0000000000000004), (141, 0.45697321313269484), (154, 0.39745712027140734), (115, 0.39708348194486165), (119, 0.3966755981120196), (112, 0.35664610913151773), (5, 0.2579441014248901), (11, 0.19022091676785416), (86, 0.17299573014338648), (66, 0.15747023448102515), (189, 0.1469260444965384), (121, 0.12811355398572344), (190, 0.10564964249810367), (184, 0.10536136039910997), (98, 0.10434632675429882), (164, 0.09873751991276819), (96, 0.09497342439832647), (163, 0.09458024766091412), (162, 0.09435888353502384), (146, 0.09229148178743127), (4, 0.0910612601683836), (94, 0.09088234043224827), (37, 0.08804450383286172), (118, 0.08619226978887545), (80, 0.08476936373727167), (171, 0.08426896200224678), (84, 0.08304634982334781), (81, 0.08234307769616239), (0, 0.081231353147531), (188, 0.07964134260608711), (52, 0.07951913690804154), (50, 0.07928478410113413), (44, 0.0792456272591538), (183, 0.07886894199211346), (101, 0.07806535192515196), (108, 0.07788504761425717), (124, 0.07753008569061924), (156, 0.07708195922976344), (103, 0.07291421135121538), (48, 0.07174135556751363), (128, 0.0701175584556617), (187, 0.06929598614607643), (19, 0.06865453193763453), (165, 0.06860733588393994), (40, 0.06824573833210186), (99, 0.06808202559838832), (151, 0.06752550956986345), (147, 0.06714336056570129), (111, 0.0658651692994393), (53, 0.06520826170098702), (166, 0.0651661357570253), (51, 0.06413081134425126), (34, 0.06385829912246097), (55, 0.06311104144543717), (65, 0.06299189743070507), (85, 0.061485049981756267), (46, 0.06137558256272986), (182, 0.061210306307015926), (180, 0.0603065664803186), (137, 0.06018781945740932), (8, 0.059310063895014094), (139, 0.05922523541567752), (145, 0.05850910372781226), (150, 0.058394716763588116), (68, 0.057815531638094865), (186, 0.05701587954342318), (3, 0.05675387363664836), (181, 0.056635268650269355), (56, 0.0563004492085967), (14, 0.055020687305457144), (20, 0.05449922461619033), (79, 0.05411335285276372), (22, 0.053818649767112946), (185, 0.05354078623982529), (23, 0.05332318510487015), (117, 0.05309170629110469), (33, 0.05260034630745984), (15, 0.052566903934865086), (116, 0.05249147364419308), (120, 0.05243761246136139), (122, 0.05243761246136139), (27, 0.05188654191015314), (61, 0.051831049931820423), (24, 0.05048196794666374), (83, 0.05031828068372893), (6, 0.049933751488323644), (47, 0.0494962805463105), (176, 0.04910720802511011), (167, 0.04866526838783374), (168, 0.04826747186700822), (49, 0.047949219145070145), (70, 0.047456071843520915), (59, 0.047349675616343276), (109, 0.046760840006392634), (64, 0.046683777506398835), (90, 0.04654315370310902), (10, 0.04649768122898686), (95, 0.0463032373697913), (158, 0.04622145219689129), (78, 0.04592957108855067), (93, 0.04567262753281148), (1, 0.04547881576902087), (161, 0.045076952110977946), (13, 0.04498556634092562), (21, 0.04495000171221199), (97, 0.044934117354514684), (12, 0.04446849960935559), (58, 0.04406144749162989), (172, 0.04402777727052106), (113, 0.043291767935428764), (143, 0.04322884371122959), (9, 0.043059698917702297), (155, 0.042991291751462636), (41, 0.04239010767187128), (91, 0.04212117868216847), (54, 0.04207575601302255), (153, 0.042067322422281075), (26, 0.04200415521850366), (42, 0.04192944418436012), (142, 0.041478911052913923), (123, 0.0412704252200511), (71, 0.04104912563967509), (114, 0.041006851762075094), (62, 0.04052276436344755), (2, 0.040518941733055966), (160, 0.04047081653724505), (125, 0.04038937713976713), (72, 0.04001560575852129), (38, 0.039916594221407684), (18, 0.039855235451541994), (29, 0.039840562545365624), (63, 0.039381878157177544), (92, 0.03919704467846169), (110, 0.03906492361314587), (131, 0.03812266123801793), (100, 0.038095206336499585), (152, 0.038064357975986056), (129, 0.03791274467223398), (148, 0.03772614026660094), (144, 0.0375818318056671), (149, 0.037508078346472566), (43, 0.03747167686499499), (7, 0.037448996932743936), (133, 0.03738808454850598), (106, 0.037153290423718566), (36, 0.03705731585878344), (39, 0.03644982479497284), (107, 0.036103227422565144), (127, 0.0360023735367446), (89, 0.03599637212779144), (87, 0.035582624672946636), (82, 0.0353932313884051), (45, 0.03478258248380682), (159, 0.034336324119247474), (132, 0.033579457819794746), (77, 0.0332317011319322), (105, 0.03206969585542725), (134, 0.03182501592493902), (76, 0.03170524372426025), (175, 0.031176046466899313), (104, 0.031043258347309352), (177, 0.030683063291348366), (102, 0.030404553305317536), (169, 0.03039781565653185), (136, 0.03004534987523988), (28, 0.029904496818968316), (130, 0.029506266707850882), (126, 0.02918783479455206), (88, 0.028298261535176283), (25, 0.027476642943501904), (31, 0.027015002210274763), (74, 0.026989661785829986), (30, 0.026568315218781807), (138, 0.026485660184827266), (135, 0.025942861835612112), (157, 0.025475361889309156), (73, 0.025475119134335915), (170, 0.024950632481585924), (178, 0.02432809558978239), (32, 0.024089733998786618), (174, 0.023063212036526153), (140, 0.020820422590079105), (75, 0.020660119527376133), (179, 0.020332191515390848), (16, 0.020184239324826884), (35, 0.019611881733209723), (57, 0.01735323432242187), (67, 0.014641267059140163), (173, 0.013250706640544632), (69, 0.011355486668465297), (17, 0.009682353241661314), (192, 0.008068155925862013), (60, 0.004030737673010308)]\n"
          ]
        }
      ]
    },
    {
      "cell_type": "code",
      "metadata": {
        "colab": {
          "base_uri": "https://localhost:8080/"
        },
        "id": "JseMqew-RW6Q",
        "outputId": "5b465ca6-40c1-4c9d-9b4d-d4c5be417491"
      },
      "source": [
        "# print the name of similar movies based on the index\n",
        "\n",
        "print('Movies suggested for you : \\n')\n",
        "\n",
        "i = 1\n",
        "\n",
        "for movie in sorted_similar_movies:\n",
        "  index = movie[0]\n",
        "  title_from_index = movies_data[movies_data.index==index]['title'].values[0]\n",
        "  if (i<30):\n",
        "    print(i, '.',title_from_index)\n",
        "    i+=1"
      ],
      "execution_count": 23,
      "outputs": [
        {
          "output_type": "stream",
          "name": "stdout",
          "text": [
            "Movies suggested for you : \n",
            "\n",
            "1 . test scholarship\n",
            "2 . NEC Merit Scholarship for Students of NER 2022-23(Sikkim)\n",
            "3 . NEC Merit Scholarship for Students of NER 2022-23(Tripura)\n",
            "4 . NEC Merit Scholarship for Students of NER 2022-23(Meghalaya)\n",
            "5 . NEC Merit Scholarship for Students of NER 2022-23(Mizoram)\n",
            "6 . NEC Merit Scholarship for Students of NER 2022-23(Manipur)\n",
            "7 . NEC Merit Scholarship for Students of NER 2022-23\n",
            "8 .  NEC Merit Scholarship for Students of NER 2022-23\n",
            "9 . Post-Matric Scholarship for Minorities of Karnataka 2022\n",
            "10 . Mukhya Mantri Protsahan Yojana 2022, Himachal Pradesh\n",
            "11 . Faculty of Science Postgraduate Writing-Up Award, University of Melbourne, 2022\n",
            "12 . NEC Merit Scholarship for Students of NER 2022-23(Nagaland)\n",
            "13 . KTH India Scholarship 2022\n",
            "14 . Chevening India Cyber Security Fellowship 2022\n",
            "15 . KSCSTE Kerala Research Fellowship 2021\n",
            "16 . Postmatric (Other than Intermediate) Scholarship for ST, SC, General Category, Uttar Pradesh 2022-23\n",
            "17 . APJ Abdul Kalaam Scholarship (APJAK), Kerala 2021-22\n",
            "18 . Postmatric (Other Than Intermediate) Scholarship for Minorities, Uttar Pradesh 2022-23\n",
            "19 . Postmatric (Other Than Intermediate) Scholarship for OBC, Uttar Pradesh 2022-23\n",
            "20 . Virchow Scholarship Program 2022\n",
            "21 . Santoor Scholarship Programme 2021-22\n",
            "22 . Mother Teresa Scholarship (MTS), Kerala 2021-22\n",
            "23 . BYPL SASHAKT Scholarship\n",
            "24 . Post Matric Scholarship for SC Students, Meghalaya 2022-23\n",
            "25 . Prime Minister's Special Scholarship Scheme (PMSSS), J&K 2021-22\n",
            "26 . The Leap Scholarship 2022\n",
            "27 . Santoor Women's Scholarship 2020\n",
            "28 . Prime Minister's Special Scholarship Scheme (PMSSS), J&K 2022-23\n",
            "29 . Virchow Scholarship Program\n"
          ]
        }
      ]
    },
    {
      "cell_type": "markdown",
      "metadata": {
        "id": "KmXULXO9TZun"
      },
      "source": [
        "Movie Recommendation Sytem"
      ]
    },
    {
      "cell_type": "code",
      "metadata": {
        "colab": {
          "base_uri": "https://localhost:8080/"
        },
        "id": "QUDZfTSxTHDf",
        "outputId": "ec7e3162-a478-4603-9a07-93533ce9e425"
      },
      "source": [
        "movie_name = input(' Enter your favourite movie name : ')\n",
        "\n",
        "list_of_all_titles = movies_data['title'].tolist()\n",
        "\n",
        "find_close_match = difflib.get_close_matches(movie_name, list_of_all_titles)\n",
        "\n",
        "close_match = find_close_match[0]\n",
        "\n",
        "index_of_the_movie = movies_data[movies_data.title == close_match].index.values[0]\n",
        "\n",
        "similarity_score = list(enumerate(similarity[index_of_the_movie]))\n",
        "\n",
        "sorted_similar_movies = sorted(similarity_score, key = lambda x:x[1], reverse = True) \n",
        "\n",
        "print('Movies suggested for you : \\n')\n",
        "\n",
        "i = 1\n",
        "\n",
        "for movie in sorted_similar_movies:\n",
        "  index = movie[0]\n",
        "  title_from_index = movies_data[movies_data.index==index]['title'].values[0]\n",
        "  if (i<30):\n",
        "    print(i, '.',title_from_index)\n",
        "    i+=1"
      ],
      "execution_count": 24,
      "outputs": [
        {
          "output_type": "stream",
          "name": "stdout",
          "text": [
            " Enter your favourite movie name : NEC Merit Scholarship\n",
            "Movies suggested for you : \n",
            "\n",
            "1 . test scholarship\n",
            "2 . NEC Merit Scholarship for Students of NER 2022-23(Sikkim)\n",
            "3 . NEC Merit Scholarship for Students of NER 2022-23(Tripura)\n",
            "4 . NEC Merit Scholarship for Students of NER 2022-23(Meghalaya)\n",
            "5 . NEC Merit Scholarship for Students of NER 2022-23(Mizoram)\n",
            "6 . NEC Merit Scholarship for Students of NER 2022-23(Manipur)\n",
            "7 . NEC Merit Scholarship for Students of NER 2022-23\n",
            "8 .  NEC Merit Scholarship for Students of NER 2022-23\n",
            "9 . Post-Matric Scholarship for Minorities of Karnataka 2022\n",
            "10 . Mukhya Mantri Protsahan Yojana 2022, Himachal Pradesh\n",
            "11 . Faculty of Science Postgraduate Writing-Up Award, University of Melbourne, 2022\n",
            "12 . NEC Merit Scholarship for Students of NER 2022-23(Nagaland)\n",
            "13 . KTH India Scholarship 2022\n",
            "14 . Chevening India Cyber Security Fellowship 2022\n",
            "15 . KSCSTE Kerala Research Fellowship 2021\n",
            "16 . Postmatric (Other than Intermediate) Scholarship for ST, SC, General Category, Uttar Pradesh 2022-23\n",
            "17 . APJ Abdul Kalaam Scholarship (APJAK), Kerala 2021-22\n",
            "18 . Postmatric (Other Than Intermediate) Scholarship for Minorities, Uttar Pradesh 2022-23\n",
            "19 . Postmatric (Other Than Intermediate) Scholarship for OBC, Uttar Pradesh 2022-23\n",
            "20 . Virchow Scholarship Program 2022\n",
            "21 . Santoor Scholarship Programme 2021-22\n",
            "22 . Mother Teresa Scholarship (MTS), Kerala 2021-22\n",
            "23 . BYPL SASHAKT Scholarship\n",
            "24 . Post Matric Scholarship for SC Students, Meghalaya 2022-23\n",
            "25 . Prime Minister's Special Scholarship Scheme (PMSSS), J&K 2021-22\n",
            "26 . The Leap Scholarship 2022\n",
            "27 . Santoor Women's Scholarship 2020\n",
            "28 . Prime Minister's Special Scholarship Scheme (PMSSS), J&K 2022-23\n",
            "29 . Virchow Scholarship Program\n"
          ]
        }
      ]
    },
    {
      "cell_type": "code",
      "metadata": {
        "id": "dgOXLbsWUAGK"
      },
      "source": [
        "#exporting pickle file for web\n",
        "import pickle\n",
        "pickle.dump(combined_features,open('combined_features.pkl','wb'))\n",
        "pickle.dump(movies_data, open('scholarship_data.pkl','wb'))\n",
        "pickle.dump(list_of_all_titles, open('list_of_all_titles.pkl','wb'))\n",
        "pickle.dump(find_close_match, open('find_close_match.pkl','wb'))\n",
        "pickle.dump(close_match, open('close_match.pkl','wb'))\n",
        "pickle.dump(index_of_the_movie, open('index_of_the_scholarship.pkl','wb'))\n",
        "pickle.dump(similarity_score, open('similarity_score.pkl','wb'))\n",
        "pickle.dump(similarity, open('similarity.pkl','wb'))\n",
        "pickle.dump(sorted_similar_movies, open('sorted_similar_scholarship.pkl','wb'))\n",
        "\n"
      ],
      "execution_count": 25,
      "outputs": []
    }
  ]
}