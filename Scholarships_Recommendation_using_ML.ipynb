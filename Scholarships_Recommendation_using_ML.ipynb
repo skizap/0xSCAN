{
  "nbformat": 4,
  "nbformat_minor": 0,
  "metadata": {
    "colab": {
      "name": "Scholarships Recommendation using ML.ipynb",
      "provenance": [],
      "collapsed_sections": [],
      "include_colab_link": true
    },
    "kernelspec": {
      "name": "python3",
      "display_name": "Python 3"
    },
    "language_info": {
      "name": "python"
    }
  },
  "cells": [
    {
      "cell_type": "markdown",
      "metadata": {
        "id": "view-in-github",
        "colab_type": "text"
      },
      "source": [
        "<a href=\"https://colab.research.google.com/github/dhruvalgupta2003/0xSCAN/blob/master/Scholarships_Recommendation_using_ML.ipynb\" target=\"_parent\"><img src=\"https://colab.research.google.com/assets/colab-badge.svg\" alt=\"Open In Colab\"/></a>"
      ]
    },
    {
      "cell_type": "markdown",
      "metadata": {
        "id": "R1oRN_iiHN_7"
      },
      "source": [
        "Importing the dependencies"
      ]
    },
    {
      "cell_type": "code",
      "metadata": {
        "id": "GAGi6hrzFLOb"
      },
      "source": [
        "import numpy as np\n",
        "import pandas as pd\n",
        "import difflib\n",
        "from sklearn.feature_extraction.text import TfidfVectorizer\n",
        "from sklearn.metrics.pairwise import cosine_similarity"
      ],
      "execution_count": null,
      "outputs": []
    },
    {
      "cell_type": "markdown",
      "metadata": {
        "id": "mfIW1BYVIGfP"
      },
      "source": [
        "Data Collection and Pre-Processing"
      ]
    },
    {
      "cell_type": "code",
      "metadata": {
        "id": "MOXn7CGdIGBU"
      },
      "source": [
        "# loading the data from the csv file to apandas dataframe\n",
        "scholarship_data = pd.read_csv('/content/scholarships.csv')\n"
      ],
      "execution_count": null,
      "outputs": []
    },
    {
      "cell_type": "code",
      "metadata": {
        "colab": {
          "base_uri": "https://localhost:8080/",
          "height": 617
        },
        "id": "cha03lDAIa6l",
        "outputId": "4ba38ce8-41c5-4ac9-cd30-382f584397e7"
      },
      "source": [
        "# printing the first 5 rows of the dataframe\n",
        "scholarship_data.head()"
      ],
      "execution_count": null,
      "outputs": [
        {
          "output_type": "execute_result",
          "data": {
            "text/plain": [
              "   index                       _id  \\\n",
              "0      1  62ecdb7511eecc8d7863e2b6   \n",
              "1      2  62ecdcc611eecc8d7863e2b8   \n",
              "2      3  62ecdd5511eecc8d7863e2ba   \n",
              "3      4  62ecdec8eec8746e08200f6b   \n",
              "4      5  62ecdf68eec8746e08200f6d   \n",
              "\n",
              "                                               title    deadline  \\\n",
              "0  Vidyadhan Odisha Plus 2 (1st year) Scholarship...  22-08-2022   \n",
              "1  SERB International Research Experience (SIRE) ...  30-08-2022   \n",
              "2                           JSPN Scholarship 2022-23  30-08-2022   \n",
              "3                        Virchow Scholarship Program  31-08-2022   \n",
              "4     TISS Guwahati Summer Internship Programme 2022  31-08-2022   \n",
              "\n",
              "                              award  \\\n",
              "0              INR 10,000 per annum   \n",
              "1                   Variable Awards   \n",
              "2                   Variable Awards   \n",
              "3                  Up to INR 15,000   \n",
              "4  INR 5,000 per month for 2 months   \n",
              "\n",
              "                                         description  \\\n",
              "0  Vidyadhan Odisha Plus 2 (1st year) Scholarship...   \n",
              "1  SERB International Research Experience (SIRE) ...   \n",
              "2  JSPN Scholarship 2022-23 is an initiative of J...   \n",
              "3  Virchow Scholarship Program is an initiative o...   \n",
              "4  TISS Guwahati Summer Internship Programme 2022...   \n",
              "\n",
              "                                             website  \\\n",
              "0                    https://www.vidyadhan.org/apply   \n",
              "1                    https://serbonline.in/SERB/Sire   \n",
              "2  https://www.srijspn.org/jspnapp/views/home.jsf...   \n",
              "3  https://www.buddy4study.com/application/VISC2/...   \n",
              "4  https://tiss.edu/uploads/files/ERB-SSR_Adverti...   \n",
              "\n",
              "                                         elegibility origin  __v  \\\n",
              "0                           Class 10 passed students  India    0   \n",
              "1                               Ph.D. degree holders  India    0   \n",
              "2              Meritorious Madhwa community students  India    0   \n",
              "3  Class 10 and 12 Girl Students from Telangana &...  India    0   \n",
              "4  B.Tech./M.Tech./M.Sc. or final year postgradua...  India    0   \n",
              "\n",
              "            state elegibility2 elegibility3 createdAt updatedAt  \n",
              "0             NaN          NaN          NaN       NaN       NaN  \n",
              "1             NaN          NaN          NaN       NaN       NaN  \n",
              "2             NaN          NaN          NaN       NaN       NaN  \n",
              "3  Andhra Pradesh          NaN          NaN       NaN       NaN  \n",
              "4             NaN          NaN          NaN       NaN       NaN  "
            ],
            "text/html": [
              "\n",
              "  <div id=\"df-fb2fc0dd-6d0a-487b-91e3-28d807317212\">\n",
              "    <div class=\"colab-df-container\">\n",
              "      <div>\n",
              "<style scoped>\n",
              "    .dataframe tbody tr th:only-of-type {\n",
              "        vertical-align: middle;\n",
              "    }\n",
              "\n",
              "    .dataframe tbody tr th {\n",
              "        vertical-align: top;\n",
              "    }\n",
              "\n",
              "    .dataframe thead th {\n",
              "        text-align: right;\n",
              "    }\n",
              "</style>\n",
              "<table border=\"1\" class=\"dataframe\">\n",
              "  <thead>\n",
              "    <tr style=\"text-align: right;\">\n",
              "      <th></th>\n",
              "      <th>index</th>\n",
              "      <th>_id</th>\n",
              "      <th>title</th>\n",
              "      <th>deadline</th>\n",
              "      <th>award</th>\n",
              "      <th>description</th>\n",
              "      <th>website</th>\n",
              "      <th>elegibility</th>\n",
              "      <th>origin</th>\n",
              "      <th>__v</th>\n",
              "      <th>state</th>\n",
              "      <th>elegibility2</th>\n",
              "      <th>elegibility3</th>\n",
              "      <th>createdAt</th>\n",
              "      <th>updatedAt</th>\n",
              "    </tr>\n",
              "  </thead>\n",
              "  <tbody>\n",
              "    <tr>\n",
              "      <th>0</th>\n",
              "      <td>1</td>\n",
              "      <td>62ecdb7511eecc8d7863e2b6</td>\n",
              "      <td>Vidyadhan Odisha Plus 2 (1st year) Scholarship...</td>\n",
              "      <td>22-08-2022</td>\n",
              "      <td>INR 10,000 per annum</td>\n",
              "      <td>Vidyadhan Odisha Plus 2 (1st year) Scholarship...</td>\n",
              "      <td>https://www.vidyadhan.org/apply</td>\n",
              "      <td>Class 10 passed students</td>\n",
              "      <td>India</td>\n",
              "      <td>0</td>\n",
              "      <td>NaN</td>\n",
              "      <td>NaN</td>\n",
              "      <td>NaN</td>\n",
              "      <td>NaN</td>\n",
              "      <td>NaN</td>\n",
              "    </tr>\n",
              "    <tr>\n",
              "      <th>1</th>\n",
              "      <td>2</td>\n",
              "      <td>62ecdcc611eecc8d7863e2b8</td>\n",
              "      <td>SERB International Research Experience (SIRE) ...</td>\n",
              "      <td>30-08-2022</td>\n",
              "      <td>Variable Awards</td>\n",
              "      <td>SERB International Research Experience (SIRE) ...</td>\n",
              "      <td>https://serbonline.in/SERB/Sire</td>\n",
              "      <td>Ph.D. degree holders</td>\n",
              "      <td>India</td>\n",
              "      <td>0</td>\n",
              "      <td>NaN</td>\n",
              "      <td>NaN</td>\n",
              "      <td>NaN</td>\n",
              "      <td>NaN</td>\n",
              "      <td>NaN</td>\n",
              "    </tr>\n",
              "    <tr>\n",
              "      <th>2</th>\n",
              "      <td>3</td>\n",
              "      <td>62ecdd5511eecc8d7863e2ba</td>\n",
              "      <td>JSPN Scholarship 2022-23</td>\n",
              "      <td>30-08-2022</td>\n",
              "      <td>Variable Awards</td>\n",
              "      <td>JSPN Scholarship 2022-23 is an initiative of J...</td>\n",
              "      <td>https://www.srijspn.org/jspnapp/views/home.jsf...</td>\n",
              "      <td>Meritorious Madhwa community students</td>\n",
              "      <td>India</td>\n",
              "      <td>0</td>\n",
              "      <td>NaN</td>\n",
              "      <td>NaN</td>\n",
              "      <td>NaN</td>\n",
              "      <td>NaN</td>\n",
              "      <td>NaN</td>\n",
              "    </tr>\n",
              "    <tr>\n",
              "      <th>3</th>\n",
              "      <td>4</td>\n",
              "      <td>62ecdec8eec8746e08200f6b</td>\n",
              "      <td>Virchow Scholarship Program</td>\n",
              "      <td>31-08-2022</td>\n",
              "      <td>Up to INR 15,000</td>\n",
              "      <td>Virchow Scholarship Program is an initiative o...</td>\n",
              "      <td>https://www.buddy4study.com/application/VISC2/...</td>\n",
              "      <td>Class 10 and 12 Girl Students from Telangana &amp;...</td>\n",
              "      <td>India</td>\n",
              "      <td>0</td>\n",
              "      <td>Andhra Pradesh</td>\n",
              "      <td>NaN</td>\n",
              "      <td>NaN</td>\n",
              "      <td>NaN</td>\n",
              "      <td>NaN</td>\n",
              "    </tr>\n",
              "    <tr>\n",
              "      <th>4</th>\n",
              "      <td>5</td>\n",
              "      <td>62ecdf68eec8746e08200f6d</td>\n",
              "      <td>TISS Guwahati Summer Internship Programme 2022</td>\n",
              "      <td>31-08-2022</td>\n",
              "      <td>INR 5,000 per month for 2 months</td>\n",
              "      <td>TISS Guwahati Summer Internship Programme 2022...</td>\n",
              "      <td>https://tiss.edu/uploads/files/ERB-SSR_Adverti...</td>\n",
              "      <td>B.Tech./M.Tech./M.Sc. or final year postgradua...</td>\n",
              "      <td>India</td>\n",
              "      <td>0</td>\n",
              "      <td>NaN</td>\n",
              "      <td>NaN</td>\n",
              "      <td>NaN</td>\n",
              "      <td>NaN</td>\n",
              "      <td>NaN</td>\n",
              "    </tr>\n",
              "  </tbody>\n",
              "</table>\n",
              "</div>\n",
              "      <button class=\"colab-df-convert\" onclick=\"convertToInteractive('df-fb2fc0dd-6d0a-487b-91e3-28d807317212')\"\n",
              "              title=\"Convert this dataframe to an interactive table.\"\n",
              "              style=\"display:none;\">\n",
              "        \n",
              "  <svg xmlns=\"http://www.w3.org/2000/svg\" height=\"24px\"viewBox=\"0 0 24 24\"\n",
              "       width=\"24px\">\n",
              "    <path d=\"M0 0h24v24H0V0z\" fill=\"none\"/>\n",
              "    <path d=\"M18.56 5.44l.94 2.06.94-2.06 2.06-.94-2.06-.94-.94-2.06-.94 2.06-2.06.94zm-11 1L8.5 8.5l.94-2.06 2.06-.94-2.06-.94L8.5 2.5l-.94 2.06-2.06.94zm10 10l.94 2.06.94-2.06 2.06-.94-2.06-.94-.94-2.06-.94 2.06-2.06.94z\"/><path d=\"M17.41 7.96l-1.37-1.37c-.4-.4-.92-.59-1.43-.59-.52 0-1.04.2-1.43.59L10.3 9.45l-7.72 7.72c-.78.78-.78 2.05 0 2.83L4 21.41c.39.39.9.59 1.41.59.51 0 1.02-.2 1.41-.59l7.78-7.78 2.81-2.81c.8-.78.8-2.07 0-2.86zM5.41 20L4 18.59l7.72-7.72 1.47 1.35L5.41 20z\"/>\n",
              "  </svg>\n",
              "      </button>\n",
              "      \n",
              "  <style>\n",
              "    .colab-df-container {\n",
              "      display:flex;\n",
              "      flex-wrap:wrap;\n",
              "      gap: 12px;\n",
              "    }\n",
              "\n",
              "    .colab-df-convert {\n",
              "      background-color: #E8F0FE;\n",
              "      border: none;\n",
              "      border-radius: 50%;\n",
              "      cursor: pointer;\n",
              "      display: none;\n",
              "      fill: #1967D2;\n",
              "      height: 32px;\n",
              "      padding: 0 0 0 0;\n",
              "      width: 32px;\n",
              "    }\n",
              "\n",
              "    .colab-df-convert:hover {\n",
              "      background-color: #E2EBFA;\n",
              "      box-shadow: 0px 1px 2px rgba(60, 64, 67, 0.3), 0px 1px 3px 1px rgba(60, 64, 67, 0.15);\n",
              "      fill: #174EA6;\n",
              "    }\n",
              "\n",
              "    [theme=dark] .colab-df-convert {\n",
              "      background-color: #3B4455;\n",
              "      fill: #D2E3FC;\n",
              "    }\n",
              "\n",
              "    [theme=dark] .colab-df-convert:hover {\n",
              "      background-color: #434B5C;\n",
              "      box-shadow: 0px 1px 3px 1px rgba(0, 0, 0, 0.15);\n",
              "      filter: drop-shadow(0px 1px 2px rgba(0, 0, 0, 0.3));\n",
              "      fill: #FFFFFF;\n",
              "    }\n",
              "  </style>\n",
              "\n",
              "      <script>\n",
              "        const buttonEl =\n",
              "          document.querySelector('#df-fb2fc0dd-6d0a-487b-91e3-28d807317212 button.colab-df-convert');\n",
              "        buttonEl.style.display =\n",
              "          google.colab.kernel.accessAllowed ? 'block' : 'none';\n",
              "\n",
              "        async function convertToInteractive(key) {\n",
              "          const element = document.querySelector('#df-fb2fc0dd-6d0a-487b-91e3-28d807317212');\n",
              "          const dataTable =\n",
              "            await google.colab.kernel.invokeFunction('convertToInteractive',\n",
              "                                                     [key], {});\n",
              "          if (!dataTable) return;\n",
              "\n",
              "          const docLinkHtml = 'Like what you see? Visit the ' +\n",
              "            '<a target=\"_blank\" href=https://colab.research.google.com/notebooks/data_table.ipynb>data table notebook</a>'\n",
              "            + ' to learn more about interactive tables.';\n",
              "          element.innerHTML = '';\n",
              "          dataTable['output_type'] = 'display_data';\n",
              "          await google.colab.output.renderOutput(dataTable, element);\n",
              "          const docLink = document.createElement('div');\n",
              "          docLink.innerHTML = docLinkHtml;\n",
              "          element.appendChild(docLink);\n",
              "        }\n",
              "      </script>\n",
              "    </div>\n",
              "  </div>\n",
              "  "
            ]
          },
          "metadata": {},
          "execution_count": 3
        }
      ]
    },
    {
      "cell_type": "code",
      "metadata": {
        "colab": {
          "base_uri": "https://localhost:8080/"
        },
        "id": "Qrtr0oQbIjwF",
        "outputId": "6d3d6f9d-4baf-4128-9ed7-d7d19a677b56"
      },
      "source": [
        "# number of rows and columns in the data frame\n",
        "\n",
        "scholarship_data.shape"
      ],
      "execution_count": null,
      "outputs": [
        {
          "output_type": "execute_result",
          "data": {
            "text/plain": [
              "(119, 15)"
            ]
          },
          "metadata": {},
          "execution_count": 4
        }
      ]
    },
    {
      "cell_type": "code",
      "metadata": {
        "colab": {
          "base_uri": "https://localhost:8080/"
        },
        "id": "hunvyruUJhVq",
        "outputId": "50a702db-88b6-453d-b56b-fb1c3829fe24"
      },
      "source": [
        "# selecting the relevant features for recommendation\n",
        "\n",
        "selected_features = ['title','award','description','elegibility','state']\n",
        "print(selected_features)"
      ],
      "execution_count": null,
      "outputs": [
        {
          "output_type": "stream",
          "name": "stdout",
          "text": [
            "['title', 'award', 'description', 'elegibility', 'state']\n"
          ]
        }
      ]
    },
    {
      "cell_type": "code",
      "metadata": {
        "id": "CKIVE6OWKSYk"
      },
      "source": [
        "# replacing the null valuess with null string\n",
        "\n",
        "for feature in selected_features:\n",
        "  scholarship_data[feature] = scholarship_data[feature].fillna('')"
      ],
      "execution_count": null,
      "outputs": []
    },
    {
      "cell_type": "code",
      "metadata": {
        "id": "-AMjrRItLCO1"
      },
      "source": [
        "# combining all the 5 selected features\n",
        "\n",
        "combined_features = scholarship_data.filter(['title' , 'award', 'description', 'elegibility', 'state'],axis=1)"
      ],
      "execution_count": null,
      "outputs": []
    },
    {
      "cell_type": "code",
      "metadata": {
        "colab": {
          "base_uri": "https://localhost:8080/"
        },
        "id": "ZYjFXx3aLwTh",
        "outputId": "cb4bb0b9-d997-40bf-afe0-31ce7cd993ca"
      },
      "source": [
        "print(combined_features)"
      ],
      "execution_count": null,
      "outputs": [
        {
          "output_type": "stream",
          "name": "stdout",
          "text": [
            "                                                 title  \\\n",
            "0    Vidyadhan Odisha Plus 2 (1st year) Scholarship...   \n",
            "1    SERB International Research Experience (SIRE) ...   \n",
            "2                             JSPN Scholarship 2022-23   \n",
            "3                          Virchow Scholarship Program   \n",
            "4       TISS Guwahati Summer Internship Programme 2022   \n",
            "..                                                 ...   \n",
            "114    Mother Teresa Scholarship (MTS), Kerala 2021-22   \n",
            "115  ITC Fee Reimbursement Scholarship, Kerala 2021-22   \n",
            "116  APJ Abdul Kalaam Scholarship (APJAK), Kerala 2...   \n",
            "117         Anandam Senapathi Scholarship, Kerala 2021   \n",
            "118             KSCSTE Kerala Research Fellowship 2021   \n",
            "\n",
            "                                                 award  \\\n",
            "0                                 INR 10,000 per annum   \n",
            "1                                      Variable Awards   \n",
            "2                                      Variable Awards   \n",
            "3                                     Up to INR 15,000   \n",
            "4                     INR 5,000 per month for 2 months   \n",
            "..                                                 ...   \n",
            "114                                INR 15,000 per year   \n",
            "115                                   Up to INR 20,000   \n",
            "116                                 INR 6,000 per year   \n",
            "117  Up to INR 60,000 per year for the duration of ...   \n",
            "118      Up to INR 35,000 per month and other benefits   \n",
            "\n",
            "                                           description  \\\n",
            "0    Vidyadhan Odisha Plus 2 (1st year) Scholarship...   \n",
            "1    SERB International Research Experience (SIRE) ...   \n",
            "2    JSPN Scholarship 2022-23 is an initiative of J...   \n",
            "3    Virchow Scholarship Program is an initiative o...   \n",
            "4    TISS Guwahati Summer Internship Programme 2022...   \n",
            "..                                                 ...   \n",
            "114  Mother Teresa Scholarship (MTS), Kerala 2021-2...   \n",
            "115  ITC Fee Reimbursement Scholarship, Kerala 2021...   \n",
            "116  APJ Abdul Kalaam Scholarship (APJAK), Kerala 2...   \n",
            "117  Anandam Senapathi Scholarship, Kerala 2021 is ...   \n",
            "118  KSCSTE Kerala Research Fellowship 2021 is an i...   \n",
            "\n",
            "                                           elegibility           state  \n",
            "0                             Class 10 passed students                  \n",
            "1                                 Ph.D. degree holders                  \n",
            "2                Meritorious Madhwa community students                  \n",
            "3    Class 10 and 12 Girl Students from Telangana &...  Andhra Pradesh  \n",
            "4    B.Tech./M.Tech./M.Sc. or final year postgradua...                  \n",
            "..                                                 ...             ...  \n",
            "114                        Nursing diploma/paramedical          Kerala  \n",
            "115  Students of Muslim, Cristian, Sikh, Buddhist, ...          Kerala  \n",
            "116                                 Diploma applicants          Kerala  \n",
            "117                 1st year MBBS/Engineering students          Kerala  \n",
            "118                        Postgraduate degree holders          Kerala  \n",
            "\n",
            "[119 rows x 5 columns]\n"
          ]
        }
      ]
    },
    {
      "cell_type": "code",
      "metadata": {
        "id": "BfuttC_gLyfF"
      },
      "source": [
        "# converting the text data to feature vectors\n",
        "\n",
        "vectorizer = TfidfVectorizer()"
      ],
      "execution_count": null,
      "outputs": []
    },
    {
      "cell_type": "code",
      "metadata": {
        "id": "Leo5rQskMKxL"
      },
      "source": [
        "feature_vectors = vectorizer.fit_transform(combined_features)"
      ],
      "execution_count": null,
      "outputs": []
    },
    {
      "cell_type": "code",
      "metadata": {
        "colab": {
          "base_uri": "https://localhost:8080/"
        },
        "id": "qNbeeMSnMb2F",
        "outputId": "f63bb102-bc7a-4aa4-9a56-7c5cf03c5e27"
      },
      "source": [
        "print(feature_vectors)"
      ],
      "execution_count": null,
      "outputs": [
        {
          "output_type": "stream",
          "name": "stdout",
          "text": [
            "  (0, 4)\t1.0\n",
            "  (1, 0)\t1.0\n",
            "  (2, 1)\t1.0\n",
            "  (3, 2)\t1.0\n",
            "  (4, 3)\t1.0\n"
          ]
        }
      ]
    },
    {
      "cell_type": "markdown",
      "metadata": {
        "id": "qEGga5yPMnXO"
      },
      "source": [
        "Cosine Similarity"
      ]
    },
    {
      "cell_type": "code",
      "metadata": {
        "id": "MsKYCs31MeB6"
      },
      "source": [
        "# getting the similarity scores using cosine similarity\n",
        "\n",
        "similarity = cosine_similarity(feature_vectors)"
      ],
      "execution_count": null,
      "outputs": []
    },
    {
      "cell_type": "code",
      "metadata": {
        "colab": {
          "base_uri": "https://localhost:8080/"
        },
        "id": "46ha1PfTM-oQ",
        "outputId": "b5d939b7-316d-444e-9604-e652b27f495f"
      },
      "source": [
        "print(similarity)"
      ],
      "execution_count": null,
      "outputs": [
        {
          "output_type": "stream",
          "name": "stdout",
          "text": [
            "[[1. 0. 0. 0. 0.]\n",
            " [0. 1. 0. 0. 0.]\n",
            " [0. 0. 1. 0. 0.]\n",
            " [0. 0. 0. 1. 0.]\n",
            " [0. 0. 0. 0. 1.]]\n"
          ]
        }
      ]
    },
    {
      "cell_type": "code",
      "metadata": {
        "colab": {
          "base_uri": "https://localhost:8080/"
        },
        "id": "PLkvII-wM_5I",
        "outputId": "97cc8bdf-6101-4da3-c346-37fc74f65c04"
      },
      "source": [
        "print(similarity.shape)"
      ],
      "execution_count": null,
      "outputs": [
        {
          "output_type": "stream",
          "name": "stdout",
          "text": [
            "(5, 5)\n"
          ]
        }
      ]
    },
    {
      "cell_type": "markdown",
      "metadata": {
        "id": "EG3JItMUWeDD"
      },
      "source": [
        "Getting the movie name from the user"
      ]
    },
    {
      "cell_type": "code",
      "metadata": {
        "colab": {
          "base_uri": "https://localhost:8080/"
        },
        "id": "bhSWJgqgNDo7",
        "outputId": "0f1f4787-8f95-45eb-ba32-f3f1e4300a7f"
      },
      "source": [
        "# getting the scholarships name from the user\n",
        "\n",
        "scholarship_name = input(' Enter the scholarship you want to enroll into : ')\n",
        "# scholarship_state = input(' Enter the State in which you want the scholarships : ')"
      ],
      "execution_count": null,
      "outputs": [
        {
          "name": "stdout",
          "output_type": "stream",
          "text": [
            " Enter the scholarship you want to enroll into : JSPN Scholarship\n"
          ]
        }
      ]
    },
    {
      "cell_type": "code",
      "metadata": {
        "colab": {
          "base_uri": "https://localhost:8080/"
        },
        "id": "VQ8Qvu8vNj4U",
        "outputId": "2f34c706-f48a-4ed7-85f9-d7fd2bc89791"
      },
      "source": [
        "# creating a list with all the movie names given in the dataset\n",
        "\n",
        "list_of_all_titles = scholarship_data['title'].tolist()\n",
        "print(list_of_all_titles)"
      ],
      "execution_count": null,
      "outputs": [
        {
          "output_type": "stream",
          "name": "stdout",
          "text": [
            "['Vidyadhan Odisha Plus 2 (1st year) Scholarship Program 2022', 'SERB International Research Experience (SIRE) 2022', 'JSPN Scholarship 2022-23', 'Virchow Scholarship Program', 'TISS Guwahati Summer Internship Programme 2022', 'BMU Kind Circle Scholarship 2022-23', 'Saksham Scholarship Program for Postgraduate Students 2022-23', 'HDFC Bank Parivartan’s ECS Scholarship 2022-23', 'Royal Global University Admission Scholarship 2022-23', 'Pre Matric Scholarship Scheme for OBC Students, Chandigarh 2022-23', 'Sharda University Admission Scholarship 2022-23', 'G. P. Birla Scholarship 2022', 'The Tata Capital Pankh Scholarship Programme for Professional Undergraduate Courses 2022-23', 'Mahindra All India Talent Scholarship (MAITS) 2022', 'TWAS-DBT Postgraduate Fellowship Programme 2022', 'Indian Institute of Astrophysics (IIA) Post-Doctoral Researcher Fellowship 2022', 'INSPIRE Awards MANAK Scheme 2022-23', 'Saksham Scholarship Program for Class 9-12 Students 2022-23', 'Saksham Scholarship Program for Class 1-8 Students 2022-23', 'Saksham Scholarship Program for Graduate Students 2022-23', \"Santoor Women's Scholarship 2020\", 'AP Educational Empowerment Fellowship 2022', 'NEC Merit Scholarship for Students of NER 2022-23', 'Umbrella Scheme for Education of ST Children Post Matric Scholarship, Arunachal Pradesh 2021-22', 'Scheme for Award of Stipend to ST Students, Arunachal Pradesh 2021', 'Umbrella Scheme for Education of ST Students Pre Matric Scholarship, Arunachal Pradesh 2021-22', 'Tata AIG Avanti Fellows Scholarship Program 2022', 'NEC Merit Scholarship for Students of NER 2022-23 (Assam)', 'Special Scholarship Scheme Ishan Uday for NER 2022-23', 'Pre-Matric Scholarship for SC Students (Class 9 & 10) 2021-22, Assam', 'Post-Matric Scholarship for SC Students 2021-22, Assam', 'Pre-Matric Scholarship for OBC Students 2021-22, Assam', 'Pre-Matric Scholarship for ST Students (Class 9 & 10) 2021-22, Assam', 'Post-Matric Scholarship for OBC Students 2021-22, Assam', 'Post-Matric Scholarship for ST Students 2021-22, Assam', 'Tata AIG Avanti Fellows Scholarship Program 2022(Assam)', 'Vidyadhan Bihar Plus 2 (1st year) Program 2022', 'Bihar Mukhyamantri Atyant Pichhda Varg Civil Seva Protsahan Yojana 2022', 'Post Matric Scholarship for SC Students, Chandigarh 2021-22', 'Post Matric Scholarship for OBC Students, Chandigarh 2021-22', 'Dr. Ambedkar Post Matric Scholarship for EBC Students, Chandigarh 2021-22', 'Post Matric Scholarship for Transgender Students 2021-22, Chandigarh', 'Pre Matric Scholarship Scheme for SC Students of Class IX and X, Chandigarh 2021-22', 'Chandigarh Lalit Kala Akademi Scholarship 2022-23', 'Pre Matric Scholarship to Scheduled Caste Students, Dadra and Nagar Haveli 2022', 'Post Matric Scholarship for SC Students - DNHDD 2022-23', 'Pre Matric Scholarship to OBC Students, Dadra and Nagar Haveli 2021', 'Post Matric Scholarship for OBC Students - DNHDD 2021-22', 'Pre Matric Scholarship to Scheduled Tribe Students, Dadra and Nagar Haveli 2021', 'Post Matric Scholarship for ST Students - DNHDD 2021-22', 'Unnati- Towards a Better Future Scholarship for ITI/Diploma Students', 'Unnati- Towards a Better Future Scholarship for School Students', 'Vidyadhan Delhi Class 11 and 12 Scholarship Program 2021', 'BYPL SASHAKT Scholarship 2021-22', 'Swami Dayanand School Scholarship for Delhi/NCR 2021-22', 'The Cadence Scholarship Program 2022-23', 'Jai Bhim Mukhyamantri Pratibha Vikas Yojna, Delhi 2020', 'Vidyadhan Goa 11 and 12 Program 2022', 'Post Matric Scholarship for ST Students, Goa 2021-22', 'Pre Matric Scholarship for ST Students (Class 9 & 10), Goa 2021-22', 'Nilam Patel Bahushrut Foundation- For SSC Students Scholarship 2022', 'Nilam Patel Bahushrut Foundation- For HSC and Above Students Scholarship 2022', 'Schaeffler India Hope Engineering Scholarship 2021-22', 'Schaeffler India COVID Crisis Support Scholarship 2021', 'Federal Bank Hormis Memorial Foundation Scholarship 2021-22', 'Post Matric Scholarship for OBC students, Gujarat 2021-22', 'Post Matric Scholarship for ST Students, Gujarat 2021-22', 'Post Matric Scholarship for SC Students, Gujarat 2021-22', 'The Cadence Scholarship Program 2022-23(GUJARAT)', 'Unnati- Towards a Better Future Scholarship for ITI/Diploma Students(Haryana)', 'Unnati- Towards a Better Future Scholarship for School Students(Haryana', 'Promotion of Science Education (POSE) Scholarship Scheme 2021-22', 'Post Matric Scholarship to Lower Income Group Students, Haryana 2021-22', 'State Merit Scholarship for UG/PG Students, Haryana 2021-22', 'Haryana State Meritorious Incentive Scheme 2021-22', 'State Meritorious Incentives Scheme (CBSE), Haryana 2021-22', 'Post Matric Scholarship for OBC Students, Haryana 2021-22', 'Post Matric Scholarship for SC Students, Haryana 2021-22', 'Haryana Vigyan/Yuva Vigyan Ratna Awards 2022-23', 'Centrally Sponsored Post Matric Scholarship for ST Students, Himachal Pradesh 2022', 'Centrally Sponsored Post Matric Scholarship Scheme for OBC Students, Himachal Pradesh 2022', 'Centrally Sponsored Pre Matric Scholarship Scheme for ST Students, Himachal Pradesh 2022', 'Centrally Sponsored Pre Matric Scholarship Scheme for OBC Students, Himachal Pradesh 2022', 'Dr. Ambedkar Post Matric Scholarship for Economically Backward Classes, Himachal Pradesh 2022', 'Mukhya Mantri Protsahan Yojana 2022, Himachal Pradesh', 'Maharishi Balmiki Chatravriti Yojana 2022, Himachal Pradesh', 'Kalpana Chawla Chatravriti Yojana 2022, Himachal Pradesh', 'Dr. Ambedkar Medhavi Chatravriti Yojana for OBC Students, Himachal Pradesh 2021', 'Centrally Sponsored Post Matric Scholarship Scheme for SC Students, Himachal Pradesh 2021', 'Centrally Sponsored Pre Matric Scholarship Scheme for SC Students, Himachal Pradesh 2021', 'Integrated Rural Development Program (IRDP) 2021, Himachal Pradesh', 'Indira Gandhi Utkrisht Chatravriti Yojana 2021, Himachal Pradesh', 'Thakur Sen Negi Utkrisht Chatravriti Yojana 2021, Himachal Pradesh', 'Swami Vivekanand Utkrisht Chatravriti Yojana, Himachal Pradesh 2021', 'Dr. Ambedkar Medhavi Chatravriti Yojana for SC Students, Himachal Pradesh 2021', 'Sainik School Sujanpur Tihra Scholarship, Himachal Pradesh 2021-22', 'Himachal Pradesh Board of School Education Merit Scholarship 2022', 'Beti Hai Anmol Yojna, Himachal Pradesh 2022', 'Post Matric Scholarship Scheme for ST Students, Jammu and Kashmir 2021', \"Prime Minister's Special Scholarship Scheme (PMSSS), J&K 2021-22\", \"Prime Minister's Special Scholarship Scheme (PMSSS), J&K 2022-23\", 'Marang Gomke Jaipal Singh Munda Overseas Scholarship 2022-23', \"Santoor Women's Scholarship 2020(Karnataka)\", 'Merit Cum Means Scholarship for Minorities, Karnataka 2022', 'Post-Matric Scholarship for Minorities of Karnataka 2022', 'The Cadence Scholarship Program 2022-23(Karnataka)', 'Saksham Scholarship Program for Class 9-12 Students 2022-23(Kerala)', 'Saksham Scholarship Program for Class 1-8 Students 2022-23(Kerala)', 'Saksham Scholarship Program for Postgraduate Students 2022-23(Kerala)', 'Vidyadhan Kerala Plus 1 Scholarship 2021', 'Pre-Matric Scholarship for OBC Students 2021-22, Kerala', 'Post Matric OBC Scholarship for CA, CMA, CS 2021-22, Kerala', 'Prof. Joseph Mundassery Scholarship Award (PJMS), Kerala 2021-22', 'Dr. Ambedkar Post Matric Scholarship for Economically Backward Classes (EBC), Kerala 2021-22', 'Mother Teresa Scholarship (MTS), Kerala 2021-22', 'ITC Fee Reimbursement Scholarship, Kerala 2021-22', 'APJ Abdul Kalaam Scholarship (APJAK), Kerala 2021-22', 'Anandam Senapathi Scholarship, Kerala 2021', 'KSCSTE Kerala Research Fellowship 2021']\n"
          ]
        }
      ]
    },
    {
      "cell_type": "code",
      "metadata": {
        "colab": {
          "base_uri": "https://localhost:8080/"
        },
        "id": "u1HTkBLIOBjf",
        "outputId": "f829377f-9367-44da-9ddc-e4cd31424556"
      },
      "source": [
        "# finding the close match for the scholarship name given by the user\n",
        "\n",
        "find_close_match = difflib.get_close_matches(scholarship_name, list_of_all_titles)\n",
        "print(find_close_match)"
      ],
      "execution_count": null,
      "outputs": [
        {
          "output_type": "stream",
          "name": "stdout",
          "text": [
            "['JSPN Scholarship 2022-23']\n"
          ]
        }
      ]
    },
    {
      "cell_type": "code",
      "metadata": {
        "colab": {
          "base_uri": "https://localhost:8080/"
        },
        "id": "CgiC-enuOfXx",
        "outputId": "5ba17404-c87b-4f78-b772-e148e9acbb1d"
      },
      "source": [
        "close_match = find_close_match[0]\n",
        "print(close_match)"
      ],
      "execution_count": null,
      "outputs": [
        {
          "output_type": "stream",
          "name": "stdout",
          "text": [
            "JSPN Scholarship 2022-23\n"
          ]
        }
      ]
    },
    {
      "cell_type": "code",
      "metadata": {
        "colab": {
          "base_uri": "https://localhost:8080/"
        },
        "id": "CNXJfY-FOw1I",
        "outputId": "157f270a-0dbc-466b-b9db-118a89222c82"
      },
      "source": [
        "# finding the index of the scholarship with title\n",
        "\n",
        "index_of_the_scholarship = scholarship_data[scholarship_data.title == close_match]['index'].values[0]\n",
        "print(index_of_the_scholarship)"
      ],
      "execution_count": null,
      "outputs": [
        {
          "output_type": "stream",
          "name": "stdout",
          "text": [
            "3\n"
          ]
        }
      ]
    },
    {
      "cell_type": "code",
      "metadata": {
        "colab": {
          "base_uri": "https://localhost:8080/"
        },
        "id": "dyUeQZpvPbkx",
        "outputId": "32d7ae9f-01b5-4d94-fd12-91ed9958483e"
      },
      "source": [
        "# getting a list of similar Scholarship\n",
        "\n",
        "similarity_score = list(enumerate(similarity[index_of_the_scholarship]))\n",
        "print(similarity_score)"
      ],
      "execution_count": null,
      "outputs": [
        {
          "output_type": "stream",
          "name": "stdout",
          "text": [
            "[(0, 0.0), (1, 0.0), (2, 0.0), (3, 1.0), (4, 0.0)]\n"
          ]
        }
      ]
    },
    {
      "cell_type": "code",
      "metadata": {
        "colab": {
          "base_uri": "https://localhost:8080/"
        },
        "id": "mMrxw-leQNtP",
        "outputId": "5207e27a-16a5-40fa-81ee-d43a1377d7e1"
      },
      "source": [
        "len(similarity_score)"
      ],
      "execution_count": null,
      "outputs": [
        {
          "output_type": "execute_result",
          "data": {
            "text/plain": [
              "5"
            ]
          },
          "metadata": {},
          "execution_count": 23
        }
      ]
    },
    {
      "cell_type": "code",
      "metadata": {
        "colab": {
          "base_uri": "https://localhost:8080/"
        },
        "id": "SkXgFLePQkHL",
        "outputId": "1782ef8c-1189-480d-9872-7af89d0c5e3b"
      },
      "source": [
        "# sorting the scholarship based on their similarity score\n",
        "\n",
        "sorted_similar_scholarship = sorted(similarity_score, key = lambda x:x[1], reverse = True) \n",
        "print(sorted_similar_scholarship)"
      ],
      "execution_count": null,
      "outputs": [
        {
          "output_type": "stream",
          "name": "stdout",
          "text": [
            "[(3, 1.0), (0, 0.0), (1, 0.0), (2, 0.0), (4, 0.0)]\n"
          ]
        }
      ]
    },
    {
      "cell_type": "code",
      "metadata": {
        "colab": {
          "base_uri": "https://localhost:8080/"
        },
        "id": "JseMqew-RW6Q",
        "outputId": "36452b18-bf2a-4577-b0aa-07c5d50da420"
      },
      "source": [
        "# print the name of similar scholarship based on the index\n",
        "\n",
        "print('scholarship suggested for you : \\n')\n",
        "\n",
        "i = 1\n",
        "\n",
        "for scholarship in sorted_similar_scholarship:\n",
        "  index = scholarship[0]\n",
        "  title_from_index = scholarship_data[scholarship_data.index==index]['title'].values[0]\n",
        "  if (i<30):\n",
        "    print(i, '.',title_from_index)\n",
        "    i+=1"
      ],
      "execution_count": null,
      "outputs": [
        {
          "output_type": "stream",
          "name": "stdout",
          "text": [
            "scholarship suggested for you : \n",
            "\n",
            "1 . Virchow Scholarship Program\n",
            "2 . Vidyadhan Odisha Plus 2 (1st year) Scholarship Program 2022\n",
            "3 . SERB International Research Experience (SIRE) 2022\n",
            "4 . JSPN Scholarship 2022-23\n",
            "5 . TISS Guwahati Summer Internship Programme 2022\n"
          ]
        }
      ]
    },
    {
      "cell_type": "markdown",
      "metadata": {
        "id": "KmXULXO9TZun"
      },
      "source": [
        "Scholarship Recommendation Sytem"
      ]
    },
    {
      "cell_type": "code",
      "metadata": {
        "colab": {
          "base_uri": "https://localhost:8080/"
        },
        "id": "QUDZfTSxTHDf",
        "outputId": "b8fe39c1-e50f-4ee8-aa95-028f45d9784c"
      },
      "source": [
        "scholarship_name = input(' Enter the Scholarship you want to enroll into : ')\n",
        "\n",
        "list_of_all_titles = scholarship_data['title'].tolist()\n",
        "\n",
        "find_close_match = difflib.get_close_matches(scholarship_name, list_of_all_titles)\n",
        "\n",
        "close_match = find_close_match[0]\n",
        "\n",
        "index_of_the_scholarship = scholarship_data[scholarship_data.title == close_match]['index'].values[0]\n",
        "\n",
        "similarity_score = list(enumerate(similarity[index_of_the_scholarship]))\n",
        "\n",
        "sorted_similar_scholarship = sorted(similarity_score, key = lambda x:x[1], reverse = True) \n",
        "\n",
        "print('Scholarships suggested for you : \\n')\n",
        "\n",
        "i = 1\n",
        "\n",
        "for scholarship in sorted_similar_scholarship:\n",
        "  index = scholarship[0]\n",
        "  title_from_index = scholarship_data[scholarship_data.index==index]['title'].values[0]\n",
        "  if (i<30):\n",
        "    print(i, '.',title_from_index)\n",
        "    i+=1"
      ],
      "execution_count": null,
      "outputs": [
        {
          "output_type": "stream",
          "name": "stdout",
          "text": [
            " Enter the Scholarship you want to enroll into : JSPN Scholarship\n",
            "Scholarships suggested for you : \n",
            "\n",
            "1 . Virchow Scholarship Program\n",
            "2 . Vidyadhan Odisha Plus 2 (1st year) Scholarship Program 2022\n",
            "3 . SERB International Research Experience (SIRE) 2022\n",
            "4 . JSPN Scholarship 2022-23\n",
            "5 . TISS Guwahati Summer Internship Programme 2022\n"
          ]
        }
      ]
    },
    {
      "cell_type": "code",
      "metadata": {
        "id": "dgOXLbsWUAGK"
      },
      "source": [
        ""
      ],
      "execution_count": null,
      "outputs": []
    }
  ]
}